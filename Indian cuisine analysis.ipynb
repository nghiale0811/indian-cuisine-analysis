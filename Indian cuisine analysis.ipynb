{
 "cells": [
  {
   "cell_type": "code",
   "execution_count": 1,
   "metadata": {},
   "outputs": [],
   "source": [
    "import numpy as np\n",
    "import pandas as pd\n",
    "import matplotlib.pyplot as plt"
   ]
  },
  {
   "cell_type": "markdown",
   "metadata": {},
   "source": [
    "### Some information about the data"
   ]
  },
  {
   "cell_type": "code",
   "execution_count": 2,
   "metadata": {},
   "outputs": [
    {
     "data": {
      "text/html": [
       "<div>\n",
       "<style scoped>\n",
       "    .dataframe tbody tr th:only-of-type {\n",
       "        vertical-align: middle;\n",
       "    }\n",
       "\n",
       "    .dataframe tbody tr th {\n",
       "        vertical-align: top;\n",
       "    }\n",
       "\n",
       "    .dataframe thead th {\n",
       "        text-align: right;\n",
       "    }\n",
       "</style>\n",
       "<table border=\"1\" class=\"dataframe\">\n",
       "  <thead>\n",
       "    <tr style=\"text-align: right;\">\n",
       "      <th></th>\n",
       "      <th>name</th>\n",
       "      <th>ingredients</th>\n",
       "      <th>diet</th>\n",
       "      <th>prep_time</th>\n",
       "      <th>cook_time</th>\n",
       "      <th>flavor_profile</th>\n",
       "      <th>course</th>\n",
       "      <th>state</th>\n",
       "      <th>region</th>\n",
       "    </tr>\n",
       "  </thead>\n",
       "  <tbody>\n",
       "    <tr>\n",
       "      <th>0</th>\n",
       "      <td>Balu shahi</td>\n",
       "      <td>Maida flour, yogurt, oil, sugar</td>\n",
       "      <td>vegetarian</td>\n",
       "      <td>45.0</td>\n",
       "      <td>25.0</td>\n",
       "      <td>sweet</td>\n",
       "      <td>dessert</td>\n",
       "      <td>West Bengal</td>\n",
       "      <td>East</td>\n",
       "    </tr>\n",
       "    <tr>\n",
       "      <th>1</th>\n",
       "      <td>Boondi</td>\n",
       "      <td>Gram flour, ghee, sugar</td>\n",
       "      <td>vegetarian</td>\n",
       "      <td>80.0</td>\n",
       "      <td>30.0</td>\n",
       "      <td>sweet</td>\n",
       "      <td>dessert</td>\n",
       "      <td>Rajasthan</td>\n",
       "      <td>West</td>\n",
       "    </tr>\n",
       "    <tr>\n",
       "      <th>2</th>\n",
       "      <td>Gajar ka halwa</td>\n",
       "      <td>Carrots, milk, sugar, ghee, cashews, raisins</td>\n",
       "      <td>vegetarian</td>\n",
       "      <td>15.0</td>\n",
       "      <td>60.0</td>\n",
       "      <td>sweet</td>\n",
       "      <td>dessert</td>\n",
       "      <td>Punjab</td>\n",
       "      <td>North</td>\n",
       "    </tr>\n",
       "    <tr>\n",
       "      <th>3</th>\n",
       "      <td>Ghevar</td>\n",
       "      <td>Flour, ghee, kewra, milk, clarified butter, su...</td>\n",
       "      <td>vegetarian</td>\n",
       "      <td>15.0</td>\n",
       "      <td>30.0</td>\n",
       "      <td>sweet</td>\n",
       "      <td>dessert</td>\n",
       "      <td>Rajasthan</td>\n",
       "      <td>West</td>\n",
       "    </tr>\n",
       "    <tr>\n",
       "      <th>4</th>\n",
       "      <td>Gulab jamun</td>\n",
       "      <td>Milk powder, plain flour, baking powder, ghee,...</td>\n",
       "      <td>vegetarian</td>\n",
       "      <td>15.0</td>\n",
       "      <td>40.0</td>\n",
       "      <td>sweet</td>\n",
       "      <td>dessert</td>\n",
       "      <td>West Bengal</td>\n",
       "      <td>East</td>\n",
       "    </tr>\n",
       "  </tbody>\n",
       "</table>\n",
       "</div>"
      ],
      "text/plain": [
       "             name                                        ingredients  \\\n",
       "0      Balu shahi                    Maida flour, yogurt, oil, sugar   \n",
       "1          Boondi                            Gram flour, ghee, sugar   \n",
       "2  Gajar ka halwa       Carrots, milk, sugar, ghee, cashews, raisins   \n",
       "3          Ghevar  Flour, ghee, kewra, milk, clarified butter, su...   \n",
       "4     Gulab jamun  Milk powder, plain flour, baking powder, ghee,...   \n",
       "\n",
       "         diet  prep_time  cook_time flavor_profile   course        state  \\\n",
       "0  vegetarian       45.0       25.0          sweet  dessert  West Bengal   \n",
       "1  vegetarian       80.0       30.0          sweet  dessert    Rajasthan   \n",
       "2  vegetarian       15.0       60.0          sweet  dessert       Punjab   \n",
       "3  vegetarian       15.0       30.0          sweet  dessert    Rajasthan   \n",
       "4  vegetarian       15.0       40.0          sweet  dessert  West Bengal   \n",
       "\n",
       "  region  \n",
       "0   East  \n",
       "1   West  \n",
       "2  North  \n",
       "3   West  \n",
       "4   East  "
      ]
     },
     "execution_count": 2,
     "metadata": {},
     "output_type": "execute_result"
    }
   ],
   "source": [
    "df = pd.read_csv(\"indian_food.csv\", na_values = -1)\n",
    "df.head()"
   ]
  },
  {
   "cell_type": "code",
   "execution_count": 3,
   "metadata": {},
   "outputs": [
    {
     "data": {
      "text/plain": [
       "(255, 9)"
      ]
     },
     "execution_count": 3,
     "metadata": {},
     "output_type": "execute_result"
    }
   ],
   "source": [
    "df.shape"
   ]
  },
  {
   "cell_type": "code",
   "execution_count": 4,
   "metadata": {},
   "outputs": [
    {
     "data": {
      "text/html": [
       "<div>\n",
       "<style scoped>\n",
       "    .dataframe tbody tr th:only-of-type {\n",
       "        vertical-align: middle;\n",
       "    }\n",
       "\n",
       "    .dataframe tbody tr th {\n",
       "        vertical-align: top;\n",
       "    }\n",
       "\n",
       "    .dataframe thead th {\n",
       "        text-align: right;\n",
       "    }\n",
       "</style>\n",
       "<table border=\"1\" class=\"dataframe\">\n",
       "  <thead>\n",
       "    <tr style=\"text-align: right;\">\n",
       "      <th></th>\n",
       "      <th>prep_time</th>\n",
       "      <th>cook_time</th>\n",
       "    </tr>\n",
       "  </thead>\n",
       "  <tbody>\n",
       "    <tr>\n",
       "      <th>count</th>\n",
       "      <td>225.000000</td>\n",
       "      <td>227.000000</td>\n",
       "    </tr>\n",
       "    <tr>\n",
       "      <th>mean</th>\n",
       "      <td>35.386667</td>\n",
       "      <td>38.911894</td>\n",
       "    </tr>\n",
       "    <tr>\n",
       "      <th>std</th>\n",
       "      <td>76.241081</td>\n",
       "      <td>49.421711</td>\n",
       "    </tr>\n",
       "    <tr>\n",
       "      <th>min</th>\n",
       "      <td>5.000000</td>\n",
       "      <td>2.000000</td>\n",
       "    </tr>\n",
       "    <tr>\n",
       "      <th>25%</th>\n",
       "      <td>10.000000</td>\n",
       "      <td>20.000000</td>\n",
       "    </tr>\n",
       "    <tr>\n",
       "      <th>50%</th>\n",
       "      <td>10.000000</td>\n",
       "      <td>30.000000</td>\n",
       "    </tr>\n",
       "    <tr>\n",
       "      <th>75%</th>\n",
       "      <td>20.000000</td>\n",
       "      <td>45.000000</td>\n",
       "    </tr>\n",
       "    <tr>\n",
       "      <th>max</th>\n",
       "      <td>500.000000</td>\n",
       "      <td>720.000000</td>\n",
       "    </tr>\n",
       "  </tbody>\n",
       "</table>\n",
       "</div>"
      ],
      "text/plain": [
       "        prep_time   cook_time\n",
       "count  225.000000  227.000000\n",
       "mean    35.386667   38.911894\n",
       "std     76.241081   49.421711\n",
       "min      5.000000    2.000000\n",
       "25%     10.000000   20.000000\n",
       "50%     10.000000   30.000000\n",
       "75%     20.000000   45.000000\n",
       "max    500.000000  720.000000"
      ]
     },
     "execution_count": 4,
     "metadata": {},
     "output_type": "execute_result"
    }
   ],
   "source": [
    "df.describe()"
   ]
  },
  {
   "cell_type": "markdown",
   "metadata": {},
   "source": [
    "### Data visualization"
   ]
  },
  {
   "cell_type": "code",
   "execution_count": 5,
   "metadata": {},
   "outputs": [],
   "source": [
    "import seaborn as sns"
   ]
  },
  {
   "cell_type": "code",
   "execution_count": 6,
   "metadata": {},
   "outputs": [
    {
     "data": {
      "image/png": "[encoded data removed]",
      "text/plain": [
       "<Figure size 432x288 with 1 Axes>"
      ]
     },
     "metadata": {
      "needs_background": "light"
     },
     "output_type": "display_data"
    }
   ],
   "source": [
    "ax = sns.countplot(x = 'flavor_profile', data = df)\n",
    "ax.set_title(\"Number of dishes by flavor\")\n",
    "ax.set_xlabel(\"Flavors\")\n",
    "plt.show()"
   ]
  },
  {
   "cell_type": "code",
   "execution_count": 7,
   "metadata": {},
   "outputs": [
    {
     "data": {
      "image/png": "[encoded data removed]",
      "text/plain": [
       "<Figure size 432x288 with 1 Axes>"
      ]
     },
     "metadata": {
      "needs_background": "light"
     },
     "output_type": "display_data"
    }
   ],
   "source": [
    "ax = sns.countplot(x = 'region', data = df)\n",
    "ax.set_title(\"Number of dishes by region\")\n",
    "ax.set_xlabel(\"Regions\")\n",
    "plt.show()"
   ]
  },
  {
   "cell_type": "code",
   "execution_count": 8,
   "metadata": {},
   "outputs": [
    {
     "data": {
      "image/png": "[encoded data removed]",
      "text/plain": [
       "<Figure size 432x288 with 1 Axes>"
      ]
     },
     "metadata": {
      "needs_background": "light"
     },
     "output_type": "display_data"
    }
   ],
   "source": [
    "ax = sns.countplot(x = 'course', data = df)\n",
    "ax.set_title(\"Number of dishes by course\")\n",
    "ax.set_xlabel(\"Courses\")\n",
    "plt.show()"
   ]
  },
  {
   "cell_type": "code",
   "execution_count": 9,
   "metadata": {},
   "outputs": [
    {
     "data": {
      "image/png": "[encoded data removed]",
      "text/plain": [
       "<Figure size 432x288 with 1 Axes>"
      ]
     },
     "metadata": {
      "needs_background": "light"
     },
     "output_type": "display_data"
    }
   ],
   "source": [
    "ax = sns.countplot(x = 'diet', data = df)\n",
    "ax.set_title(\"Number of dishes by diet\")\n",
    "ax.set_xlabel(\"Diets\")\n",
    "plt.show()"
   ]
  },
  {
   "cell_type": "code",
   "execution_count": 10,
   "metadata": {},
   "outputs": [
    {
     "data": {
      "image/png": "[encoded data removed]",
      "text/plain": [
       "<Figure size 432x288 with 1 Axes>"
      ]
     },
     "metadata": {
      "needs_background": "light"
     },
     "output_type": "display_data"
    }
   ],
   "source": [
    "sns.barplot(data=df, x=\"region\", y=\"cook_time\")\n",
    "plt.show()"
   ]
  },
  {
   "cell_type": "code",
   "execution_count": 11,
   "metadata": {},
   "outputs": [
    {
     "data": {
      "image/png": "[encoded data removed]",
      "text/plain": [
       "<Figure size 1008x504 with 2 Axes>"
      ]
     },
     "metadata": {
      "needs_background": "light"
     },
     "output_type": "display_data"
    }
   ],
   "source": [
    "fig, ax = plt.subplots(1, 2, figsize=(14, 7))\n",
    "sns.histplot(data = df, x = 'prep_time', kde = True, ax =ax[0])\n",
    "sns.histplot(data = df, x = 'cook_time', color =\"olive\", kde = True, ax=ax[1])\n",
    "plt.show()"
   ]
  },
  {
   "cell_type": "code",
   "execution_count": 12,
   "metadata": {},
   "outputs": [],
   "source": [
    "def draw_boxplots(x_val, xlab):\n",
    "    fig, ax = plt.subplots(1, 2, figsize=(14, 7), sharey=True)\n",
    "    ax[0].set_yscale(\"log\")\n",
    "    sns.boxplot(data = df, x =x_val, y=\"prep_time\", palette='vlag', ax=ax[0])\n",
    "    sns.boxplot(data = df, x =x_val, y=\"cook_time\", palette='vlag', ax=ax[1])\n",
    "    ax[0].set_ylabel(\"Prep time (log scale)\")\n",
    "    ax[0].set_xlabel(xlab)\n",
    "    ax[0].set_title(\"Preparation time by \" + xlab)\n",
    "    ax[1].set_ylabel(\"Cook time (log scale)\")\n",
    "    ax[1].set_xlabel(xlab)\n",
    "    ax[1].set_title(\"Cooking time by \"+ xlab)\n",
    "    plt.show()"
   ]
  },
  {
   "cell_type": "code",
   "execution_count": 13,
   "metadata": {},
   "outputs": [
    {
     "data": {
      "image/png": "[encoded data removed]",
      "text/plain": [
       "<Figure size 1008x504 with 2 Axes>"
      ]
     },
     "metadata": {
      "needs_background": "light"
     },
     "output_type": "display_data"
    }
   ],
   "source": [
    "draw_boxplots(\"flavor_profile\", \"Flavors\")"
   ]
  },
  {
   "cell_type": "code",
   "execution_count": 14,
   "metadata": {},
   "outputs": [
    {
     "data": {
      "image/png": "[encoded data removed]",
      "text/plain": [
       "<Figure size 1008x504 with 2 Axes>"
      ]
     },
     "metadata": {
      "needs_background": "light"
     },
     "output_type": "display_data"
    }
   ],
   "source": [
    "draw_boxplots(\"course\", \"Course\")"
   ]
  },
  {
   "cell_type": "code",
   "execution_count": 15,
   "metadata": {},
   "outputs": [
    {
     "data": {
      "image/png": "[encoded data removed]",
      "text/plain": [
       "<Figure size 1008x504 with 2 Axes>"
      ]
     },
     "metadata": {
      "needs_background": "light"
     },
     "output_type": "display_data"
    }
   ],
   "source": [
    "draw_boxplots(\"diet\", \"Diet\")"
   ]
  },
  {
   "cell_type": "markdown",
   "metadata": {},
   "source": [
    "### Missing data"
   ]
  },
  {
   "cell_type": "code",
   "execution_count": 16,
   "metadata": {},
   "outputs": [
    {
     "data": {
      "text/plain": [
       "name               0.000000\n",
       "ingredients        0.000000\n",
       "diet               0.000000\n",
       "prep_time         11.764706\n",
       "cook_time         10.980392\n",
       "flavor_profile    11.372549\n",
       "course             0.000000\n",
       "state              9.411765\n",
       "region             5.490196\n",
       "dtype: float64"
      ]
     },
     "execution_count": 16,
     "metadata": {},
     "output_type": "execute_result"
    }
   ],
   "source": [
    "df.isnull().mean() * 100"
   ]
  },
  {
   "cell_type": "code",
   "execution_count": 17,
   "metadata": {},
   "outputs": [
    {
     "name": "stdout",
     "output_type": "stream",
     "text": [
      "name               0.000000\n",
      "ingredients        0.000000\n",
      "diet               0.000000\n",
      "prep_time          0.000000\n",
      "cook_time          0.000000\n",
      "flavor_profile    10.572687\n",
      "course             0.000000\n",
      "dtype: float64\n",
      "(227, 7)\n"
     ]
    }
   ],
   "source": [
    "# since the data is skewed, we use mode to impute the missing data in prep_time\n",
    "from sklearn.impute import SimpleImputer\n",
    "\n",
    "imp = SimpleImputer(missing_values=np.nan, strategy='most_frequent')\n",
    "df2 = df.copy()\n",
    "df2.drop(['state', 'region'], axis=1, inplace=True)\n",
    "df2.dropna(subset=['cook_time'], inplace=True)\n",
    "df2['prep_time'] = imp.fit_transform(df2['prep_time'].values.reshape(-1, 1))\n",
    "print(df2.isnull().mean() * 100)\n",
    "print(df2.shape)"
   ]
  },
  {
   "cell_type": "markdown",
   "metadata": {},
   "source": [
    "### One-hot encode categorical data"
   ]
  },
  {
   "cell_type": "code",
   "execution_count": 18,
   "metadata": {},
   "outputs": [
    {
     "data": {
      "text/html": [
       "<div>\n",
       "<style scoped>\n",
       "    .dataframe tbody tr th:only-of-type {\n",
       "        vertical-align: middle;\n",
       "    }\n",
       "\n",
       "    .dataframe tbody tr th {\n",
       "        vertical-align: top;\n",
       "    }\n",
       "\n",
       "    .dataframe thead th {\n",
       "        text-align: right;\n",
       "    }\n",
       "</style>\n",
       "<table border=\"1\" class=\"dataframe\">\n",
       "  <thead>\n",
       "    <tr style=\"text-align: right;\">\n",
       "      <th></th>\n",
       "      <th>name</th>\n",
       "      <th>ingredients</th>\n",
       "      <th>diet</th>\n",
       "      <th>prep_time</th>\n",
       "      <th>cook_time</th>\n",
       "      <th>flavor_profile</th>\n",
       "      <th>course</th>\n",
       "      <th>is_vegetarian</th>\n",
       "    </tr>\n",
       "  </thead>\n",
       "  <tbody>\n",
       "    <tr>\n",
       "      <th>0</th>\n",
       "      <td>Balu shahi</td>\n",
       "      <td>Maida flour, yogurt, oil, sugar</td>\n",
       "      <td>vegetarian</td>\n",
       "      <td>45.0</td>\n",
       "      <td>25.0</td>\n",
       "      <td>sweet</td>\n",
       "      <td>dessert</td>\n",
       "      <td>1</td>\n",
       "    </tr>\n",
       "    <tr>\n",
       "      <th>1</th>\n",
       "      <td>Boondi</td>\n",
       "      <td>Gram flour, ghee, sugar</td>\n",
       "      <td>vegetarian</td>\n",
       "      <td>80.0</td>\n",
       "      <td>30.0</td>\n",
       "      <td>sweet</td>\n",
       "      <td>dessert</td>\n",
       "      <td>1</td>\n",
       "    </tr>\n",
       "    <tr>\n",
       "      <th>2</th>\n",
       "      <td>Gajar ka halwa</td>\n",
       "      <td>Carrots, milk, sugar, ghee, cashews, raisins</td>\n",
       "      <td>vegetarian</td>\n",
       "      <td>15.0</td>\n",
       "      <td>60.0</td>\n",
       "      <td>sweet</td>\n",
       "      <td>dessert</td>\n",
       "      <td>1</td>\n",
       "    </tr>\n",
       "    <tr>\n",
       "      <th>3</th>\n",
       "      <td>Ghevar</td>\n",
       "      <td>Flour, ghee, kewra, milk, clarified butter, su...</td>\n",
       "      <td>vegetarian</td>\n",
       "      <td>15.0</td>\n",
       "      <td>30.0</td>\n",
       "      <td>sweet</td>\n",
       "      <td>dessert</td>\n",
       "      <td>1</td>\n",
       "    </tr>\n",
       "    <tr>\n",
       "      <th>4</th>\n",
       "      <td>Gulab jamun</td>\n",
       "      <td>Milk powder, plain flour, baking powder, ghee,...</td>\n",
       "      <td>vegetarian</td>\n",
       "      <td>15.0</td>\n",
       "      <td>40.0</td>\n",
       "      <td>sweet</td>\n",
       "      <td>dessert</td>\n",
       "      <td>1</td>\n",
       "    </tr>\n",
       "  </tbody>\n",
       "</table>\n",
       "</div>"
      ],
      "text/plain": [
       "             name                                        ingredients  \\\n",
       "0      Balu shahi                    Maida flour, yogurt, oil, sugar   \n",
       "1          Boondi                            Gram flour, ghee, sugar   \n",
       "2  Gajar ka halwa       Carrots, milk, sugar, ghee, cashews, raisins   \n",
       "3          Ghevar  Flour, ghee, kewra, milk, clarified butter, su...   \n",
       "4     Gulab jamun  Milk powder, plain flour, baking powder, ghee,...   \n",
       "\n",
       "         diet  prep_time  cook_time flavor_profile   course is_vegetarian  \n",
       "0  vegetarian       45.0       25.0          sweet  dessert             1  \n",
       "1  vegetarian       80.0       30.0          sweet  dessert             1  \n",
       "2  vegetarian       15.0       60.0          sweet  dessert             1  \n",
       "3  vegetarian       15.0       30.0          sweet  dessert             1  \n",
       "4  vegetarian       15.0       40.0          sweet  dessert             1  "
      ]
     },
     "execution_count": 18,
     "metadata": {},
     "output_type": "execute_result"
    }
   ],
   "source": [
    "# preprocess ingredients columns\n",
    "df_train = df2.copy()\n",
    "df_train['is_vegetarian'] = df_train['diet'].map({'vegetarian': 1, 'non vegetarian' : 0}).astype('object')\n",
    "df_train.head()"
   ]
  },
  {
   "cell_type": "code",
   "execution_count": 19,
   "metadata": {},
   "outputs": [],
   "source": [
    "df_train = df_train.reset_index(drop=True)"
   ]
  },
  {
   "cell_type": "code",
   "execution_count": 20,
   "metadata": {},
   "outputs": [],
   "source": [
    "# discretize cook_time\n",
    "bins = [0, 30, 60, 720]\n",
    "group_names = ['quick', 'medium', 'slow']\n",
    "df_train['cook_time'] = pd.cut(df_train['cook_time'], bins, labels=group_names)"
   ]
  },
  {
   "cell_type": "code",
   "execution_count": 21,
   "metadata": {},
   "outputs": [
    {
     "data": {
      "text/plain": [
       "quick     131\n",
       "medium     84\n",
       "slow       12\n",
       "Name: cook_time, dtype: int64"
      ]
     },
     "execution_count": 21,
     "metadata": {},
     "output_type": "execute_result"
    }
   ],
   "source": [
    "df_train['cook_time'].value_counts()"
   ]
  },
  {
   "cell_type": "code",
   "execution_count": 22,
   "metadata": {},
   "outputs": [],
   "source": [
    "# feature encoding for ingredients\n",
    "from sklearn.feature_extraction.text import TfidfVectorizer"
   ]
  },
  {
   "cell_type": "code",
   "execution_count": 23,
   "metadata": {},
   "outputs": [
    {
     "data": {
      "text/html": [
       "<div>\n",
       "<style scoped>\n",
       "    .dataframe tbody tr th:only-of-type {\n",
       "        vertical-align: middle;\n",
       "    }\n",
       "\n",
       "    .dataframe tbody tr th {\n",
       "        vertical-align: top;\n",
       "    }\n",
       "\n",
       "    .dataframe thead th {\n",
       "        text-align: right;\n",
       "    }\n",
       "</style>\n",
       "<table border=\"1\" class=\"dataframe\">\n",
       "  <thead>\n",
       "    <tr style=\"text-align: right;\">\n",
       "      <th></th>\n",
       "      <th>acid</th>\n",
       "      <th>all</th>\n",
       "      <th>almond</th>\n",
       "      <th>almonds</th>\n",
       "      <th>aloo</th>\n",
       "      <th>alum</th>\n",
       "      <th>amaranth</th>\n",
       "      <th>amchur</th>\n",
       "      <th>and</th>\n",
       "      <th>anise</th>\n",
       "      <th>...</th>\n",
       "      <th>whipping</th>\n",
       "      <th>white</th>\n",
       "      <th>whole</th>\n",
       "      <th>wild</th>\n",
       "      <th>wine</th>\n",
       "      <th>yam</th>\n",
       "      <th>yellow</th>\n",
       "      <th>yoghurt</th>\n",
       "      <th>yogurt</th>\n",
       "      <th>yolks</th>\n",
       "    </tr>\n",
       "  </thead>\n",
       "  <tbody>\n",
       "    <tr>\n",
       "      <th>0</th>\n",
       "      <td>0.0</td>\n",
       "      <td>0.000000</td>\n",
       "      <td>0.0</td>\n",
       "      <td>0.000000</td>\n",
       "      <td>0.0</td>\n",
       "      <td>0.0</td>\n",
       "      <td>0.0</td>\n",
       "      <td>0.0</td>\n",
       "      <td>0.0</td>\n",
       "      <td>0.0</td>\n",
       "      <td>...</td>\n",
       "      <td>0.0</td>\n",
       "      <td>0.0</td>\n",
       "      <td>0.0</td>\n",
       "      <td>0.0</td>\n",
       "      <td>0.0</td>\n",
       "      <td>0.0</td>\n",
       "      <td>0.0</td>\n",
       "      <td>0.0</td>\n",
       "      <td>0.531785</td>\n",
       "      <td>0.000000</td>\n",
       "    </tr>\n",
       "    <tr>\n",
       "      <th>1</th>\n",
       "      <td>0.0</td>\n",
       "      <td>0.000000</td>\n",
       "      <td>0.0</td>\n",
       "      <td>0.000000</td>\n",
       "      <td>0.0</td>\n",
       "      <td>0.0</td>\n",
       "      <td>0.0</td>\n",
       "      <td>0.0</td>\n",
       "      <td>0.0</td>\n",
       "      <td>0.0</td>\n",
       "      <td>...</td>\n",
       "      <td>0.0</td>\n",
       "      <td>0.0</td>\n",
       "      <td>0.0</td>\n",
       "      <td>0.0</td>\n",
       "      <td>0.0</td>\n",
       "      <td>0.0</td>\n",
       "      <td>0.0</td>\n",
       "      <td>0.0</td>\n",
       "      <td>0.000000</td>\n",
       "      <td>0.000000</td>\n",
       "    </tr>\n",
       "    <tr>\n",
       "      <th>2</th>\n",
       "      <td>0.0</td>\n",
       "      <td>0.000000</td>\n",
       "      <td>0.0</td>\n",
       "      <td>0.000000</td>\n",
       "      <td>0.0</td>\n",
       "      <td>0.0</td>\n",
       "      <td>0.0</td>\n",
       "      <td>0.0</td>\n",
       "      <td>0.0</td>\n",
       "      <td>0.0</td>\n",
       "      <td>...</td>\n",
       "      <td>0.0</td>\n",
       "      <td>0.0</td>\n",
       "      <td>0.0</td>\n",
       "      <td>0.0</td>\n",
       "      <td>0.0</td>\n",
       "      <td>0.0</td>\n",
       "      <td>0.0</td>\n",
       "      <td>0.0</td>\n",
       "      <td>0.000000</td>\n",
       "      <td>0.000000</td>\n",
       "    </tr>\n",
       "    <tr>\n",
       "      <th>3</th>\n",
       "      <td>0.0</td>\n",
       "      <td>0.000000</td>\n",
       "      <td>0.0</td>\n",
       "      <td>0.355991</td>\n",
       "      <td>0.0</td>\n",
       "      <td>0.0</td>\n",
       "      <td>0.0</td>\n",
       "      <td>0.0</td>\n",
       "      <td>0.0</td>\n",
       "      <td>0.0</td>\n",
       "      <td>...</td>\n",
       "      <td>0.0</td>\n",
       "      <td>0.0</td>\n",
       "      <td>0.0</td>\n",
       "      <td>0.0</td>\n",
       "      <td>0.0</td>\n",
       "      <td>0.0</td>\n",
       "      <td>0.0</td>\n",
       "      <td>0.0</td>\n",
       "      <td>0.000000</td>\n",
       "      <td>0.000000</td>\n",
       "    </tr>\n",
       "    <tr>\n",
       "      <th>4</th>\n",
       "      <td>0.0</td>\n",
       "      <td>0.000000</td>\n",
       "      <td>0.0</td>\n",
       "      <td>0.000000</td>\n",
       "      <td>0.0</td>\n",
       "      <td>0.0</td>\n",
       "      <td>0.0</td>\n",
       "      <td>0.0</td>\n",
       "      <td>0.0</td>\n",
       "      <td>0.0</td>\n",
       "      <td>...</td>\n",
       "      <td>0.0</td>\n",
       "      <td>0.0</td>\n",
       "      <td>0.0</td>\n",
       "      <td>0.0</td>\n",
       "      <td>0.0</td>\n",
       "      <td>0.0</td>\n",
       "      <td>0.0</td>\n",
       "      <td>0.0</td>\n",
       "      <td>0.000000</td>\n",
       "      <td>0.000000</td>\n",
       "    </tr>\n",
       "    <tr>\n",
       "      <th>...</th>\n",
       "      <td>...</td>\n",
       "      <td>...</td>\n",
       "      <td>...</td>\n",
       "      <td>...</td>\n",
       "      <td>...</td>\n",
       "      <td>...</td>\n",
       "      <td>...</td>\n",
       "      <td>...</td>\n",
       "      <td>...</td>\n",
       "      <td>...</td>\n",
       "      <td>...</td>\n",
       "      <td>...</td>\n",
       "      <td>...</td>\n",
       "      <td>...</td>\n",
       "      <td>...</td>\n",
       "      <td>...</td>\n",
       "      <td>...</td>\n",
       "      <td>...</td>\n",
       "      <td>...</td>\n",
       "      <td>...</td>\n",
       "      <td>...</td>\n",
       "    </tr>\n",
       "    <tr>\n",
       "      <th>222</th>\n",
       "      <td>0.0</td>\n",
       "      <td>0.000000</td>\n",
       "      <td>0.0</td>\n",
       "      <td>0.000000</td>\n",
       "      <td>0.0</td>\n",
       "      <td>0.0</td>\n",
       "      <td>0.0</td>\n",
       "      <td>0.0</td>\n",
       "      <td>0.0</td>\n",
       "      <td>0.0</td>\n",
       "      <td>...</td>\n",
       "      <td>0.0</td>\n",
       "      <td>0.0</td>\n",
       "      <td>0.0</td>\n",
       "      <td>0.0</td>\n",
       "      <td>0.0</td>\n",
       "      <td>0.0</td>\n",
       "      <td>0.0</td>\n",
       "      <td>0.0</td>\n",
       "      <td>0.000000</td>\n",
       "      <td>0.000000</td>\n",
       "    </tr>\n",
       "    <tr>\n",
       "      <th>223</th>\n",
       "      <td>0.0</td>\n",
       "      <td>0.000000</td>\n",
       "      <td>0.0</td>\n",
       "      <td>0.000000</td>\n",
       "      <td>0.0</td>\n",
       "      <td>0.0</td>\n",
       "      <td>0.0</td>\n",
       "      <td>0.0</td>\n",
       "      <td>0.0</td>\n",
       "      <td>0.0</td>\n",
       "      <td>...</td>\n",
       "      <td>0.0</td>\n",
       "      <td>0.0</td>\n",
       "      <td>0.0</td>\n",
       "      <td>0.0</td>\n",
       "      <td>0.0</td>\n",
       "      <td>0.0</td>\n",
       "      <td>0.0</td>\n",
       "      <td>0.0</td>\n",
       "      <td>0.000000</td>\n",
       "      <td>0.000000</td>\n",
       "    </tr>\n",
       "    <tr>\n",
       "      <th>224</th>\n",
       "      <td>0.0</td>\n",
       "      <td>0.000000</td>\n",
       "      <td>0.0</td>\n",
       "      <td>0.000000</td>\n",
       "      <td>0.0</td>\n",
       "      <td>0.0</td>\n",
       "      <td>0.0</td>\n",
       "      <td>0.0</td>\n",
       "      <td>0.0</td>\n",
       "      <td>0.0</td>\n",
       "      <td>...</td>\n",
       "      <td>0.0</td>\n",
       "      <td>0.0</td>\n",
       "      <td>0.0</td>\n",
       "      <td>0.0</td>\n",
       "      <td>0.0</td>\n",
       "      <td>0.0</td>\n",
       "      <td>0.0</td>\n",
       "      <td>0.0</td>\n",
       "      <td>0.000000</td>\n",
       "      <td>0.000000</td>\n",
       "    </tr>\n",
       "    <tr>\n",
       "      <th>225</th>\n",
       "      <td>0.0</td>\n",
       "      <td>0.359378</td>\n",
       "      <td>0.0</td>\n",
       "      <td>0.000000</td>\n",
       "      <td>0.0</td>\n",
       "      <td>0.0</td>\n",
       "      <td>0.0</td>\n",
       "      <td>0.0</td>\n",
       "      <td>0.0</td>\n",
       "      <td>0.0</td>\n",
       "      <td>...</td>\n",
       "      <td>0.0</td>\n",
       "      <td>0.0</td>\n",
       "      <td>0.0</td>\n",
       "      <td>0.0</td>\n",
       "      <td>0.0</td>\n",
       "      <td>0.0</td>\n",
       "      <td>0.0</td>\n",
       "      <td>0.0</td>\n",
       "      <td>0.000000</td>\n",
       "      <td>0.459796</td>\n",
       "    </tr>\n",
       "    <tr>\n",
       "      <th>226</th>\n",
       "      <td>0.0</td>\n",
       "      <td>0.346548</td>\n",
       "      <td>0.0</td>\n",
       "      <td>0.000000</td>\n",
       "      <td>0.0</td>\n",
       "      <td>0.0</td>\n",
       "      <td>0.0</td>\n",
       "      <td>0.0</td>\n",
       "      <td>0.0</td>\n",
       "      <td>0.0</td>\n",
       "      <td>...</td>\n",
       "      <td>0.0</td>\n",
       "      <td>0.0</td>\n",
       "      <td>0.0</td>\n",
       "      <td>0.0</td>\n",
       "      <td>0.0</td>\n",
       "      <td>0.0</td>\n",
       "      <td>0.0</td>\n",
       "      <td>0.0</td>\n",
       "      <td>0.000000</td>\n",
       "      <td>0.000000</td>\n",
       "    </tr>\n",
       "  </tbody>\n",
       "</table>\n",
       "<p>227 rows × 312 columns</p>\n",
       "</div>"
      ],
      "text/plain": [
       "     acid       all  almond   almonds  aloo  alum  amaranth  amchur  and  \\\n",
       "0     0.0  0.000000     0.0  0.000000   0.0   0.0       0.0     0.0  0.0   \n",
       "1     0.0  0.000000     0.0  0.000000   0.0   0.0       0.0     0.0  0.0   \n",
       "2     0.0  0.000000     0.0  0.000000   0.0   0.0       0.0     0.0  0.0   \n",
       "3     0.0  0.000000     0.0  0.355991   0.0   0.0       0.0     0.0  0.0   \n",
       "4     0.0  0.000000     0.0  0.000000   0.0   0.0       0.0     0.0  0.0   \n",
       "..    ...       ...     ...       ...   ...   ...       ...     ...  ...   \n",
       "222   0.0  0.000000     0.0  0.000000   0.0   0.0       0.0     0.0  0.0   \n",
       "223   0.0  0.000000     0.0  0.000000   0.0   0.0       0.0     0.0  0.0   \n",
       "224   0.0  0.000000     0.0  0.000000   0.0   0.0       0.0     0.0  0.0   \n",
       "225   0.0  0.359378     0.0  0.000000   0.0   0.0       0.0     0.0  0.0   \n",
       "226   0.0  0.346548     0.0  0.000000   0.0   0.0       0.0     0.0  0.0   \n",
       "\n",
       "     anise  ...  whipping  white  whole  wild  wine  yam  yellow  yoghurt  \\\n",
       "0      0.0  ...       0.0    0.0    0.0   0.0   0.0  0.0     0.0      0.0   \n",
       "1      0.0  ...       0.0    0.0    0.0   0.0   0.0  0.0     0.0      0.0   \n",
       "2      0.0  ...       0.0    0.0    0.0   0.0   0.0  0.0     0.0      0.0   \n",
       "3      0.0  ...       0.0    0.0    0.0   0.0   0.0  0.0     0.0      0.0   \n",
       "4      0.0  ...       0.0    0.0    0.0   0.0   0.0  0.0     0.0      0.0   \n",
       "..     ...  ...       ...    ...    ...   ...   ...  ...     ...      ...   \n",
       "222    0.0  ...       0.0    0.0    0.0   0.0   0.0  0.0     0.0      0.0   \n",
       "223    0.0  ...       0.0    0.0    0.0   0.0   0.0  0.0     0.0      0.0   \n",
       "224    0.0  ...       0.0    0.0    0.0   0.0   0.0  0.0     0.0      0.0   \n",
       "225    0.0  ...       0.0    0.0    0.0   0.0   0.0  0.0     0.0      0.0   \n",
       "226    0.0  ...       0.0    0.0    0.0   0.0   0.0  0.0     0.0      0.0   \n",
       "\n",
       "       yogurt     yolks  \n",
       "0    0.531785  0.000000  \n",
       "1    0.000000  0.000000  \n",
       "2    0.000000  0.000000  \n",
       "3    0.000000  0.000000  \n",
       "4    0.000000  0.000000  \n",
       "..        ...       ...  \n",
       "222  0.000000  0.000000  \n",
       "223  0.000000  0.000000  \n",
       "224  0.000000  0.000000  \n",
       "225  0.000000  0.459796  \n",
       "226  0.000000  0.000000  \n",
       "\n",
       "[227 rows x 312 columns]"
      ]
     },
     "execution_count": 23,
     "metadata": {},
     "output_type": "execute_result"
    }
   ],
   "source": [
    "vectorizer = TfidfVectorizer()\n",
    "vectors = vectorizer.fit_transform(df_train['ingredients'])\n",
    "feature_names = vectorizer.get_feature_names_out()\n",
    "dense = vectors.todense()\n",
    "denselist = dense.tolist()\n",
    "pd.DataFrame(denselist, columns=feature_names)"
   ]
  },
  {
   "cell_type": "code",
   "execution_count": 24,
   "metadata": {},
   "outputs": [],
   "source": [
    "dummies = pd.DataFrame(denselist, columns=feature_names)"
   ]
  },
  {
   "cell_type": "code",
   "execution_count": 25,
   "metadata": {},
   "outputs": [],
   "source": [
    "# one hot encoding the flavors\n",
    "one_hot_encode_data = pd.get_dummies(df_train, columns=['flavor_profile', 'course'])"
   ]
  },
  {
   "cell_type": "code",
   "execution_count": 26,
   "metadata": {},
   "outputs": [],
   "source": [
    "one_hot_encode_data = one_hot_encode_data.join(dummies.add_prefix('ingre_'))\n",
    "one_hot_encode_data.drop(['ingredients', 'diet', 'name'], axis=1, inplace=True)"
   ]
  },
  {
   "cell_type": "code",
   "execution_count": 27,
   "metadata": {},
   "outputs": [
    {
     "data": {
      "text/html": [
       "<div>\n",
       "<style scoped>\n",
       "    .dataframe tbody tr th:only-of-type {\n",
       "        vertical-align: middle;\n",
       "    }\n",
       "\n",
       "    .dataframe tbody tr th {\n",
       "        vertical-align: top;\n",
       "    }\n",
       "\n",
       "    .dataframe thead th {\n",
       "        text-align: right;\n",
       "    }\n",
       "</style>\n",
       "<table border=\"1\" class=\"dataframe\">\n",
       "  <thead>\n",
       "    <tr style=\"text-align: right;\">\n",
       "      <th></th>\n",
       "      <th>prep_time</th>\n",
       "      <th>cook_time</th>\n",
       "      <th>is_vegetarian</th>\n",
       "      <th>flavor_profile_bitter</th>\n",
       "      <th>flavor_profile_sour</th>\n",
       "      <th>flavor_profile_spicy</th>\n",
       "      <th>flavor_profile_sweet</th>\n",
       "      <th>course_dessert</th>\n",
       "      <th>course_main course</th>\n",
       "      <th>course_snack</th>\n",
       "      <th>...</th>\n",
       "      <th>ingre_whipping</th>\n",
       "      <th>ingre_white</th>\n",
       "      <th>ingre_whole</th>\n",
       "      <th>ingre_wild</th>\n",
       "      <th>ingre_wine</th>\n",
       "      <th>ingre_yam</th>\n",
       "      <th>ingre_yellow</th>\n",
       "      <th>ingre_yoghurt</th>\n",
       "      <th>ingre_yogurt</th>\n",
       "      <th>ingre_yolks</th>\n",
       "    </tr>\n",
       "  </thead>\n",
       "  <tbody>\n",
       "    <tr>\n",
       "      <th>0</th>\n",
       "      <td>45.0</td>\n",
       "      <td>quick</td>\n",
       "      <td>1</td>\n",
       "      <td>0</td>\n",
       "      <td>0</td>\n",
       "      <td>0</td>\n",
       "      <td>1</td>\n",
       "      <td>1</td>\n",
       "      <td>0</td>\n",
       "      <td>0</td>\n",
       "      <td>...</td>\n",
       "      <td>0.0</td>\n",
       "      <td>0.0</td>\n",
       "      <td>0.0</td>\n",
       "      <td>0.0</td>\n",
       "      <td>0.0</td>\n",
       "      <td>0.0</td>\n",
       "      <td>0.0</td>\n",
       "      <td>0.0</td>\n",
       "      <td>0.531785</td>\n",
       "      <td>0.000000</td>\n",
       "    </tr>\n",
       "    <tr>\n",
       "      <th>1</th>\n",
       "      <td>80.0</td>\n",
       "      <td>quick</td>\n",
       "      <td>1</td>\n",
       "      <td>0</td>\n",
       "      <td>0</td>\n",
       "      <td>0</td>\n",
       "      <td>1</td>\n",
       "      <td>1</td>\n",
       "      <td>0</td>\n",
       "      <td>0</td>\n",
       "      <td>...</td>\n",
       "      <td>0.0</td>\n",
       "      <td>0.0</td>\n",
       "      <td>0.0</td>\n",
       "      <td>0.0</td>\n",
       "      <td>0.0</td>\n",
       "      <td>0.0</td>\n",
       "      <td>0.0</td>\n",
       "      <td>0.0</td>\n",
       "      <td>0.000000</td>\n",
       "      <td>0.000000</td>\n",
       "    </tr>\n",
       "    <tr>\n",
       "      <th>2</th>\n",
       "      <td>15.0</td>\n",
       "      <td>medium</td>\n",
       "      <td>1</td>\n",
       "      <td>0</td>\n",
       "      <td>0</td>\n",
       "      <td>0</td>\n",
       "      <td>1</td>\n",
       "      <td>1</td>\n",
       "      <td>0</td>\n",
       "      <td>0</td>\n",
       "      <td>...</td>\n",
       "      <td>0.0</td>\n",
       "      <td>0.0</td>\n",
       "      <td>0.0</td>\n",
       "      <td>0.0</td>\n",
       "      <td>0.0</td>\n",
       "      <td>0.0</td>\n",
       "      <td>0.0</td>\n",
       "      <td>0.0</td>\n",
       "      <td>0.000000</td>\n",
       "      <td>0.000000</td>\n",
       "    </tr>\n",
       "    <tr>\n",
       "      <th>3</th>\n",
       "      <td>15.0</td>\n",
       "      <td>quick</td>\n",
       "      <td>1</td>\n",
       "      <td>0</td>\n",
       "      <td>0</td>\n",
       "      <td>0</td>\n",
       "      <td>1</td>\n",
       "      <td>1</td>\n",
       "      <td>0</td>\n",
       "      <td>0</td>\n",
       "      <td>...</td>\n",
       "      <td>0.0</td>\n",
       "      <td>0.0</td>\n",
       "      <td>0.0</td>\n",
       "      <td>0.0</td>\n",
       "      <td>0.0</td>\n",
       "      <td>0.0</td>\n",
       "      <td>0.0</td>\n",
       "      <td>0.0</td>\n",
       "      <td>0.000000</td>\n",
       "      <td>0.000000</td>\n",
       "    </tr>\n",
       "    <tr>\n",
       "      <th>4</th>\n",
       "      <td>15.0</td>\n",
       "      <td>medium</td>\n",
       "      <td>1</td>\n",
       "      <td>0</td>\n",
       "      <td>0</td>\n",
       "      <td>0</td>\n",
       "      <td>1</td>\n",
       "      <td>1</td>\n",
       "      <td>0</td>\n",
       "      <td>0</td>\n",
       "      <td>...</td>\n",
       "      <td>0.0</td>\n",
       "      <td>0.0</td>\n",
       "      <td>0.0</td>\n",
       "      <td>0.0</td>\n",
       "      <td>0.0</td>\n",
       "      <td>0.0</td>\n",
       "      <td>0.0</td>\n",
       "      <td>0.0</td>\n",
       "      <td>0.000000</td>\n",
       "      <td>0.000000</td>\n",
       "    </tr>\n",
       "    <tr>\n",
       "      <th>...</th>\n",
       "      <td>...</td>\n",
       "      <td>...</td>\n",
       "      <td>...</td>\n",
       "      <td>...</td>\n",
       "      <td>...</td>\n",
       "      <td>...</td>\n",
       "      <td>...</td>\n",
       "      <td>...</td>\n",
       "      <td>...</td>\n",
       "      <td>...</td>\n",
       "      <td>...</td>\n",
       "      <td>...</td>\n",
       "      <td>...</td>\n",
       "      <td>...</td>\n",
       "      <td>...</td>\n",
       "      <td>...</td>\n",
       "      <td>...</td>\n",
       "      <td>...</td>\n",
       "      <td>...</td>\n",
       "      <td>...</td>\n",
       "      <td>...</td>\n",
       "    </tr>\n",
       "    <tr>\n",
       "      <th>222</th>\n",
       "      <td>15.0</td>\n",
       "      <td>medium</td>\n",
       "      <td>0</td>\n",
       "      <td>0</td>\n",
       "      <td>0</td>\n",
       "      <td>1</td>\n",
       "      <td>0</td>\n",
       "      <td>0</td>\n",
       "      <td>1</td>\n",
       "      <td>0</td>\n",
       "      <td>...</td>\n",
       "      <td>0.0</td>\n",
       "      <td>0.0</td>\n",
       "      <td>0.0</td>\n",
       "      <td>0.0</td>\n",
       "      <td>0.0</td>\n",
       "      <td>0.0</td>\n",
       "      <td>0.0</td>\n",
       "      <td>0.0</td>\n",
       "      <td>0.000000</td>\n",
       "      <td>0.000000</td>\n",
       "    </tr>\n",
       "    <tr>\n",
       "      <th>223</th>\n",
       "      <td>10.0</td>\n",
       "      <td>quick</td>\n",
       "      <td>1</td>\n",
       "      <td>0</td>\n",
       "      <td>0</td>\n",
       "      <td>1</td>\n",
       "      <td>0</td>\n",
       "      <td>0</td>\n",
       "      <td>1</td>\n",
       "      <td>0</td>\n",
       "      <td>...</td>\n",
       "      <td>0.0</td>\n",
       "      <td>0.0</td>\n",
       "      <td>0.0</td>\n",
       "      <td>0.0</td>\n",
       "      <td>0.0</td>\n",
       "      <td>0.0</td>\n",
       "      <td>0.0</td>\n",
       "      <td>0.0</td>\n",
       "      <td>0.000000</td>\n",
       "      <td>0.000000</td>\n",
       "    </tr>\n",
       "    <tr>\n",
       "      <th>224</th>\n",
       "      <td>5.0</td>\n",
       "      <td>quick</td>\n",
       "      <td>1</td>\n",
       "      <td>0</td>\n",
       "      <td>0</td>\n",
       "      <td>0</td>\n",
       "      <td>1</td>\n",
       "      <td>1</td>\n",
       "      <td>0</td>\n",
       "      <td>0</td>\n",
       "      <td>...</td>\n",
       "      <td>0.0</td>\n",
       "      <td>0.0</td>\n",
       "      <td>0.0</td>\n",
       "      <td>0.0</td>\n",
       "      <td>0.0</td>\n",
       "      <td>0.0</td>\n",
       "      <td>0.0</td>\n",
       "      <td>0.0</td>\n",
       "      <td>0.000000</td>\n",
       "      <td>0.000000</td>\n",
       "    </tr>\n",
       "    <tr>\n",
       "      <th>225</th>\n",
       "      <td>20.0</td>\n",
       "      <td>medium</td>\n",
       "      <td>1</td>\n",
       "      <td>0</td>\n",
       "      <td>0</td>\n",
       "      <td>0</td>\n",
       "      <td>1</td>\n",
       "      <td>1</td>\n",
       "      <td>0</td>\n",
       "      <td>0</td>\n",
       "      <td>...</td>\n",
       "      <td>0.0</td>\n",
       "      <td>0.0</td>\n",
       "      <td>0.0</td>\n",
       "      <td>0.0</td>\n",
       "      <td>0.0</td>\n",
       "      <td>0.0</td>\n",
       "      <td>0.0</td>\n",
       "      <td>0.0</td>\n",
       "      <td>0.000000</td>\n",
       "      <td>0.459796</td>\n",
       "    </tr>\n",
       "    <tr>\n",
       "      <th>226</th>\n",
       "      <td>20.0</td>\n",
       "      <td>medium</td>\n",
       "      <td>1</td>\n",
       "      <td>0</td>\n",
       "      <td>0</td>\n",
       "      <td>0</td>\n",
       "      <td>1</td>\n",
       "      <td>1</td>\n",
       "      <td>0</td>\n",
       "      <td>0</td>\n",
       "      <td>...</td>\n",
       "      <td>0.0</td>\n",
       "      <td>0.0</td>\n",
       "      <td>0.0</td>\n",
       "      <td>0.0</td>\n",
       "      <td>0.0</td>\n",
       "      <td>0.0</td>\n",
       "      <td>0.0</td>\n",
       "      <td>0.0</td>\n",
       "      <td>0.000000</td>\n",
       "      <td>0.000000</td>\n",
       "    </tr>\n",
       "  </tbody>\n",
       "</table>\n",
       "<p>227 rows × 323 columns</p>\n",
       "</div>"
      ],
      "text/plain": [
       "     prep_time cook_time is_vegetarian  flavor_profile_bitter  \\\n",
       "0         45.0     quick             1                      0   \n",
       "1         80.0     quick             1                      0   \n",
       "2         15.0    medium             1                      0   \n",
       "3         15.0     quick             1                      0   \n",
       "4         15.0    medium             1                      0   \n",
       "..         ...       ...           ...                    ...   \n",
       "222       15.0    medium             0                      0   \n",
       "223       10.0     quick             1                      0   \n",
       "224        5.0     quick             1                      0   \n",
       "225       20.0    medium             1                      0   \n",
       "226       20.0    medium             1                      0   \n",
       "\n",
       "     flavor_profile_sour  flavor_profile_spicy  flavor_profile_sweet  \\\n",
       "0                      0                     0                     1   \n",
       "1                      0                     0                     1   \n",
       "2                      0                     0                     1   \n",
       "3                      0                     0                     1   \n",
       "4                      0                     0                     1   \n",
       "..                   ...                   ...                   ...   \n",
       "222                    0                     1                     0   \n",
       "223                    0                     1                     0   \n",
       "224                    0                     0                     1   \n",
       "225                    0                     0                     1   \n",
       "226                    0                     0                     1   \n",
       "\n",
       "     course_dessert  course_main course  course_snack  ...  ingre_whipping  \\\n",
       "0                 1                   0             0  ...             0.0   \n",
       "1                 1                   0             0  ...             0.0   \n",
       "2                 1                   0             0  ...             0.0   \n",
       "3                 1                   0             0  ...             0.0   \n",
       "4                 1                   0             0  ...             0.0   \n",
       "..              ...                 ...           ...  ...             ...   \n",
       "222               0                   1             0  ...             0.0   \n",
       "223               0                   1             0  ...             0.0   \n",
       "224               1                   0             0  ...             0.0   \n",
       "225               1                   0             0  ...             0.0   \n",
       "226               1                   0             0  ...             0.0   \n",
       "\n",
       "     ingre_white  ingre_whole  ingre_wild  ingre_wine  ingre_yam  \\\n",
       "0            0.0          0.0         0.0         0.0        0.0   \n",
       "1            0.0          0.0         0.0         0.0        0.0   \n",
       "2            0.0          0.0         0.0         0.0        0.0   \n",
       "3            0.0          0.0         0.0         0.0        0.0   \n",
       "4            0.0          0.0         0.0         0.0        0.0   \n",
       "..           ...          ...         ...         ...        ...   \n",
       "222          0.0          0.0         0.0         0.0        0.0   \n",
       "223          0.0          0.0         0.0         0.0        0.0   \n",
       "224          0.0          0.0         0.0         0.0        0.0   \n",
       "225          0.0          0.0         0.0         0.0        0.0   \n",
       "226          0.0          0.0         0.0         0.0        0.0   \n",
       "\n",
       "     ingre_yellow  ingre_yoghurt  ingre_yogurt  ingre_yolks  \n",
       "0             0.0            0.0      0.531785     0.000000  \n",
       "1             0.0            0.0      0.000000     0.000000  \n",
       "2             0.0            0.0      0.000000     0.000000  \n",
       "3             0.0            0.0      0.000000     0.000000  \n",
       "4             0.0            0.0      0.000000     0.000000  \n",
       "..            ...            ...           ...          ...  \n",
       "222           0.0            0.0      0.000000     0.000000  \n",
       "223           0.0            0.0      0.000000     0.000000  \n",
       "224           0.0            0.0      0.000000     0.000000  \n",
       "225           0.0            0.0      0.000000     0.459796  \n",
       "226           0.0            0.0      0.000000     0.000000  \n",
       "\n",
       "[227 rows x 323 columns]"
      ]
     },
     "execution_count": 27,
     "metadata": {},
     "output_type": "execute_result"
    }
   ],
   "source": [
    "one_hot_encode_data"
   ]
  },
  {
   "cell_type": "code",
   "execution_count": 28,
   "metadata": {},
   "outputs": [],
   "source": [
    "one_hot_encode_data['cook_time'] = one_hot_encode_data['cook_time'].map({'quick': 1, 'medium' : 2, 'slow':3})"
   ]
  },
  {
   "cell_type": "code",
   "execution_count": 29,
   "metadata": {},
   "outputs": [],
   "source": [
    "# use KNN to impute the values for flavor profile\n",
    "from sklearn.impute import KNNImputer\n",
    "\n",
    "imputer = KNNImputer(n_neighbors=3)\n",
    "ohe_data_imputed = imputer.fit_transform(one_hot_encode_data)"
   ]
  },
  {
   "cell_type": "markdown",
   "metadata": {},
   "source": [
    "### Train test split"
   ]
  },
  {
   "cell_type": "code",
   "execution_count": 30,
   "metadata": {},
   "outputs": [
    {
     "data": {
      "text/html": [
       "<div>\n",
       "<style scoped>\n",
       "    .dataframe tbody tr th:only-of-type {\n",
       "        vertical-align: middle;\n",
       "    }\n",
       "\n",
       "    .dataframe tbody tr th {\n",
       "        vertical-align: top;\n",
       "    }\n",
       "\n",
       "    .dataframe thead th {\n",
       "        text-align: right;\n",
       "    }\n",
       "</style>\n",
       "<table border=\"1\" class=\"dataframe\">\n",
       "  <thead>\n",
       "    <tr style=\"text-align: right;\">\n",
       "      <th></th>\n",
       "      <th>prep_time</th>\n",
       "      <th>cook_time</th>\n",
       "      <th>is_vegetarian</th>\n",
       "      <th>flavor_profile_bitter</th>\n",
       "      <th>flavor_profile_sour</th>\n",
       "      <th>flavor_profile_spicy</th>\n",
       "      <th>flavor_profile_sweet</th>\n",
       "      <th>course_dessert</th>\n",
       "      <th>course_main course</th>\n",
       "      <th>course_snack</th>\n",
       "      <th>...</th>\n",
       "      <th>ingre_whipping</th>\n",
       "      <th>ingre_white</th>\n",
       "      <th>ingre_whole</th>\n",
       "      <th>ingre_wild</th>\n",
       "      <th>ingre_wine</th>\n",
       "      <th>ingre_yam</th>\n",
       "      <th>ingre_yellow</th>\n",
       "      <th>ingre_yoghurt</th>\n",
       "      <th>ingre_yogurt</th>\n",
       "      <th>ingre_yolks</th>\n",
       "    </tr>\n",
       "  </thead>\n",
       "  <tbody>\n",
       "    <tr>\n",
       "      <th>0</th>\n",
       "      <td>45.0</td>\n",
       "      <td>1.0</td>\n",
       "      <td>1.0</td>\n",
       "      <td>0.0</td>\n",
       "      <td>0.0</td>\n",
       "      <td>0.0</td>\n",
       "      <td>1.0</td>\n",
       "      <td>1.0</td>\n",
       "      <td>0.0</td>\n",
       "      <td>0.0</td>\n",
       "      <td>...</td>\n",
       "      <td>0.0</td>\n",
       "      <td>0.0</td>\n",
       "      <td>0.0</td>\n",
       "      <td>0.0</td>\n",
       "      <td>0.0</td>\n",
       "      <td>0.0</td>\n",
       "      <td>0.0</td>\n",
       "      <td>0.0</td>\n",
       "      <td>0.531785</td>\n",
       "      <td>0.0</td>\n",
       "    </tr>\n",
       "    <tr>\n",
       "      <th>1</th>\n",
       "      <td>80.0</td>\n",
       "      <td>1.0</td>\n",
       "      <td>1.0</td>\n",
       "      <td>0.0</td>\n",
       "      <td>0.0</td>\n",
       "      <td>0.0</td>\n",
       "      <td>1.0</td>\n",
       "      <td>1.0</td>\n",
       "      <td>0.0</td>\n",
       "      <td>0.0</td>\n",
       "      <td>...</td>\n",
       "      <td>0.0</td>\n",
       "      <td>0.0</td>\n",
       "      <td>0.0</td>\n",
       "      <td>0.0</td>\n",
       "      <td>0.0</td>\n",
       "      <td>0.0</td>\n",
       "      <td>0.0</td>\n",
       "      <td>0.0</td>\n",
       "      <td>0.000000</td>\n",
       "      <td>0.0</td>\n",
       "    </tr>\n",
       "    <tr>\n",
       "      <th>2</th>\n",
       "      <td>15.0</td>\n",
       "      <td>2.0</td>\n",
       "      <td>1.0</td>\n",
       "      <td>0.0</td>\n",
       "      <td>0.0</td>\n",
       "      <td>0.0</td>\n",
       "      <td>1.0</td>\n",
       "      <td>1.0</td>\n",
       "      <td>0.0</td>\n",
       "      <td>0.0</td>\n",
       "      <td>...</td>\n",
       "      <td>0.0</td>\n",
       "      <td>0.0</td>\n",
       "      <td>0.0</td>\n",
       "      <td>0.0</td>\n",
       "      <td>0.0</td>\n",
       "      <td>0.0</td>\n",
       "      <td>0.0</td>\n",
       "      <td>0.0</td>\n",
       "      <td>0.000000</td>\n",
       "      <td>0.0</td>\n",
       "    </tr>\n",
       "    <tr>\n",
       "      <th>3</th>\n",
       "      <td>15.0</td>\n",
       "      <td>1.0</td>\n",
       "      <td>1.0</td>\n",
       "      <td>0.0</td>\n",
       "      <td>0.0</td>\n",
       "      <td>0.0</td>\n",
       "      <td>1.0</td>\n",
       "      <td>1.0</td>\n",
       "      <td>0.0</td>\n",
       "      <td>0.0</td>\n",
       "      <td>...</td>\n",
       "      <td>0.0</td>\n",
       "      <td>0.0</td>\n",
       "      <td>0.0</td>\n",
       "      <td>0.0</td>\n",
       "      <td>0.0</td>\n",
       "      <td>0.0</td>\n",
       "      <td>0.0</td>\n",
       "      <td>0.0</td>\n",
       "      <td>0.000000</td>\n",
       "      <td>0.0</td>\n",
       "    </tr>\n",
       "    <tr>\n",
       "      <th>4</th>\n",
       "      <td>15.0</td>\n",
       "      <td>2.0</td>\n",
       "      <td>1.0</td>\n",
       "      <td>0.0</td>\n",
       "      <td>0.0</td>\n",
       "      <td>0.0</td>\n",
       "      <td>1.0</td>\n",
       "      <td>1.0</td>\n",
       "      <td>0.0</td>\n",
       "      <td>0.0</td>\n",
       "      <td>...</td>\n",
       "      <td>0.0</td>\n",
       "      <td>0.0</td>\n",
       "      <td>0.0</td>\n",
       "      <td>0.0</td>\n",
       "      <td>0.0</td>\n",
       "      <td>0.0</td>\n",
       "      <td>0.0</td>\n",
       "      <td>0.0</td>\n",
       "      <td>0.000000</td>\n",
       "      <td>0.0</td>\n",
       "    </tr>\n",
       "  </tbody>\n",
       "</table>\n",
       "<p>5 rows × 323 columns</p>\n",
       "</div>"
      ],
      "text/plain": [
       "   prep_time  cook_time  is_vegetarian  flavor_profile_bitter  \\\n",
       "0       45.0        1.0            1.0                    0.0   \n",
       "1       80.0        1.0            1.0                    0.0   \n",
       "2       15.0        2.0            1.0                    0.0   \n",
       "3       15.0        1.0            1.0                    0.0   \n",
       "4       15.0        2.0            1.0                    0.0   \n",
       "\n",
       "   flavor_profile_sour  flavor_profile_spicy  flavor_profile_sweet  \\\n",
       "0                  0.0                   0.0                   1.0   \n",
       "1                  0.0                   0.0                   1.0   \n",
       "2                  0.0                   0.0                   1.0   \n",
       "3                  0.0                   0.0                   1.0   \n",
       "4                  0.0                   0.0                   1.0   \n",
       "\n",
       "   course_dessert  course_main course  course_snack  ...  ingre_whipping  \\\n",
       "0             1.0                 0.0           0.0  ...             0.0   \n",
       "1             1.0                 0.0           0.0  ...             0.0   \n",
       "2             1.0                 0.0           0.0  ...             0.0   \n",
       "3             1.0                 0.0           0.0  ...             0.0   \n",
       "4             1.0                 0.0           0.0  ...             0.0   \n",
       "\n",
       "   ingre_white  ingre_whole  ingre_wild  ingre_wine  ingre_yam  ingre_yellow  \\\n",
       "0          0.0          0.0         0.0         0.0        0.0           0.0   \n",
       "1          0.0          0.0         0.0         0.0        0.0           0.0   \n",
       "2          0.0          0.0         0.0         0.0        0.0           0.0   \n",
       "3          0.0          0.0         0.0         0.0        0.0           0.0   \n",
       "4          0.0          0.0         0.0         0.0        0.0           0.0   \n",
       "\n",
       "   ingre_yoghurt  ingre_yogurt  ingre_yolks  \n",
       "0            0.0      0.531785          0.0  \n",
       "1            0.0      0.000000          0.0  \n",
       "2            0.0      0.000000          0.0  \n",
       "3            0.0      0.000000          0.0  \n",
       "4            0.0      0.000000          0.0  \n",
       "\n",
       "[5 rows x 323 columns]"
      ]
     },
     "execution_count": 30,
     "metadata": {},
     "output_type": "execute_result"
    }
   ],
   "source": [
    "train_info = pd.DataFrame(ohe_data_imputed, columns=one_hot_encode_data.columns)\n",
    "train_info.head()"
   ]
  },
  {
   "cell_type": "code",
   "execution_count": 31,
   "metadata": {},
   "outputs": [],
   "source": [
    "# ytrain\n",
    "cook_time = one_hot_encode_data['cook_time']"
   ]
  },
  {
   "cell_type": "code",
   "execution_count": 32,
   "metadata": {},
   "outputs": [],
   "source": [
    "x_full = train_info.drop('cook_time', axis=1)"
   ]
  },
  {
   "cell_type": "markdown",
   "metadata": {},
   "source": [
    "### Baseline model"
   ]
  },
  {
   "cell_type": "code",
   "execution_count": 33,
   "metadata": {},
   "outputs": [],
   "source": [
    "from sklearn.dummy import DummyClassifier\n",
    "from sklearn.model_selection import train_test_split, cross_val_score, RandomizedSearchCV, RepeatedStratifiedKFold\n",
    "from numpy import mean\n",
    "from numpy import std"
   ]
  },
  {
   "cell_type": "code",
   "execution_count": 34,
   "metadata": {},
   "outputs": [],
   "source": [
    "# helper function to evaluate a model\n",
    "def evaluate_model(X, y, model):\n",
    "    cv = RepeatedStratifiedKFold(n_splits=5, n_repeats=3, random_state=1)\n",
    "    scores = cross_val_score(model, X, y, scoring='accuracy', cv=cv, n_jobs=-1)\n",
    "    return scores"
   ]
  },
  {
   "cell_type": "code",
   "execution_count": 35,
   "metadata": {},
   "outputs": [
    {
     "name": "stdout",
     "output_type": "stream",
     "text": [
      "Mean Accuracy: 0.577 (0.007)\n"
     ]
    }
   ],
   "source": [
    "model = DummyClassifier(strategy='most_frequent')\n",
    "scores = evaluate_model(x_full, cook_time, model)\n",
    "print('Mean Accuracy: %.3f (%.3f)' % (mean(scores), std(scores)))"
   ]
  },
  {
   "cell_type": "code",
   "execution_count": 36,
   "metadata": {},
   "outputs": [],
   "source": [
    "from sklearn.linear_model import LogisticRegression"
   ]
  },
  {
   "cell_type": "code",
   "execution_count": 37,
   "metadata": {},
   "outputs": [
    {
     "name": "stdout",
     "output_type": "stream",
     "text": [
      "Mean Accuracy: 0.617 (0.044)\n"
     ]
    }
   ],
   "source": [
    "# base logistic regression model\n",
    "base_logistic = LogisticRegression()\n",
    "scores = evaluate_model(x_full, cook_time, base_logistic)\n",
    "print('Mean Accuracy: %.3f (%.3f)' % (mean(scores), std(scores)))"
   ]
  },
  {
   "cell_type": "code",
   "execution_count": 38,
   "metadata": {},
   "outputs": [],
   "source": [
    "from sklearn.ensemble import RandomForestClassifier"
   ]
  },
  {
   "cell_type": "code",
   "execution_count": 39,
   "metadata": {},
   "outputs": [
    {
     "name": "stdout",
     "output_type": "stream",
     "text": [
      "Mean Accuracy: 0.601 (0.047)\n"
     ]
    }
   ],
   "source": [
    "# base random forest model\n",
    "base_rfc = RandomForestClassifier(random_state=0)\n",
    "scores = evaluate_model(x_full, cook_time, base_rfc)\n",
    "print('Mean Accuracy: %.3f (%.3f)' % (mean(scores), std(scores)))"
   ]
  },
  {
   "cell_type": "code",
   "execution_count": 40,
   "metadata": {},
   "outputs": [],
   "source": [
    "from sklearn.naive_bayes import MultinomialNB"
   ]
  },
  {
   "cell_type": "code",
   "execution_count": 41,
   "metadata": {},
   "outputs": [
    {
     "name": "stdout",
     "output_type": "stream",
     "text": [
      "Mean Accuracy: 0.576 (0.048)\n"
     ]
    }
   ],
   "source": [
    "base_clf = MultinomialNB()\n",
    "scores = evaluate_model(x_full, cook_time, base_clf)\n",
    "print('Mean Accuracy: %.3f (%.3f)' % (mean(scores), std(scores)))"
   ]
  },
  {
   "cell_type": "code",
   "execution_count": 42,
   "metadata": {},
   "outputs": [],
   "source": [
    "from sklearn.svm import SVC"
   ]
  },
  {
   "cell_type": "code",
   "execution_count": 43,
   "metadata": {},
   "outputs": [
    {
     "name": "stdout",
     "output_type": "stream",
     "text": [
      "Mean Accuracy: 0.583 (0.019)\n"
     ]
    }
   ],
   "source": [
    "base_svm = SVC(random_state=0)\n",
    "scores = evaluate_model(x_full, cook_time, base_svm)\n",
    "print('Mean Accuracy: %.3f (%.3f)' % (mean(scores), std(scores)))"
   ]
  },
  {
   "cell_type": "markdown",
   "metadata": {},
   "source": [
    "### Feature engineering"
   ]
  },
  {
   "cell_type": "code",
   "execution_count": 44,
   "metadata": {},
   "outputs": [],
   "source": [
    "data_copy = train_info.copy()"
   ]
  },
  {
   "cell_type": "markdown",
   "metadata": {},
   "source": [
    "As we have seen before, the preparation time highly skewed to the right, with some outliers. Thus, we will bring the distribution closer to a bell-shaped normal distribution, by using box-cox transformation\n",
    "\n"
   ]
  },
  {
   "cell_type": "code",
   "execution_count": 45,
   "metadata": {},
   "outputs": [
    {
     "data": {
      "text/html": [
       "<div>\n",
       "<style scoped>\n",
       "    .dataframe tbody tr th:only-of-type {\n",
       "        vertical-align: middle;\n",
       "    }\n",
       "\n",
       "    .dataframe tbody tr th {\n",
       "        vertical-align: top;\n",
       "    }\n",
       "\n",
       "    .dataframe thead th {\n",
       "        text-align: right;\n",
       "    }\n",
       "</style>\n",
       "<table border=\"1\" class=\"dataframe\">\n",
       "  <thead>\n",
       "    <tr style=\"text-align: right;\">\n",
       "      <th></th>\n",
       "      <th>prep_time</th>\n",
       "      <th>cook_time</th>\n",
       "      <th>is_vegetarian</th>\n",
       "      <th>flavor_profile_bitter</th>\n",
       "      <th>flavor_profile_sour</th>\n",
       "      <th>flavor_profile_spicy</th>\n",
       "      <th>flavor_profile_sweet</th>\n",
       "      <th>course_dessert</th>\n",
       "      <th>course_main course</th>\n",
       "      <th>course_snack</th>\n",
       "      <th>...</th>\n",
       "      <th>ingre_whipping</th>\n",
       "      <th>ingre_white</th>\n",
       "      <th>ingre_whole</th>\n",
       "      <th>ingre_wild</th>\n",
       "      <th>ingre_wine</th>\n",
       "      <th>ingre_yam</th>\n",
       "      <th>ingre_yellow</th>\n",
       "      <th>ingre_yoghurt</th>\n",
       "      <th>ingre_yogurt</th>\n",
       "      <th>ingre_yolks</th>\n",
       "    </tr>\n",
       "  </thead>\n",
       "  <tbody>\n",
       "    <tr>\n",
       "      <th>0</th>\n",
       "      <td>1.463390</td>\n",
       "      <td>1.0</td>\n",
       "      <td>1.0</td>\n",
       "      <td>0.0</td>\n",
       "      <td>0.0</td>\n",
       "      <td>0.0</td>\n",
       "      <td>1.0</td>\n",
       "      <td>1.0</td>\n",
       "      <td>0.0</td>\n",
       "      <td>0.0</td>\n",
       "      <td>...</td>\n",
       "      <td>0.0</td>\n",
       "      <td>0.0</td>\n",
       "      <td>0.0</td>\n",
       "      <td>0.0</td>\n",
       "      <td>0.0</td>\n",
       "      <td>0.0</td>\n",
       "      <td>0.0</td>\n",
       "      <td>0.0</td>\n",
       "      <td>0.531785</td>\n",
       "      <td>0.000000</td>\n",
       "    </tr>\n",
       "    <tr>\n",
       "      <th>1</th>\n",
       "      <td>1.509367</td>\n",
       "      <td>1.0</td>\n",
       "      <td>1.0</td>\n",
       "      <td>0.0</td>\n",
       "      <td>0.0</td>\n",
       "      <td>0.0</td>\n",
       "      <td>1.0</td>\n",
       "      <td>1.0</td>\n",
       "      <td>0.0</td>\n",
       "      <td>0.0</td>\n",
       "      <td>...</td>\n",
       "      <td>0.0</td>\n",
       "      <td>0.0</td>\n",
       "      <td>0.0</td>\n",
       "      <td>0.0</td>\n",
       "      <td>0.0</td>\n",
       "      <td>0.0</td>\n",
       "      <td>0.0</td>\n",
       "      <td>0.0</td>\n",
       "      <td>0.000000</td>\n",
       "      <td>0.000000</td>\n",
       "    </tr>\n",
       "    <tr>\n",
       "      <th>2</th>\n",
       "      <td>1.314016</td>\n",
       "      <td>2.0</td>\n",
       "      <td>1.0</td>\n",
       "      <td>0.0</td>\n",
       "      <td>0.0</td>\n",
       "      <td>0.0</td>\n",
       "      <td>1.0</td>\n",
       "      <td>1.0</td>\n",
       "      <td>0.0</td>\n",
       "      <td>0.0</td>\n",
       "      <td>...</td>\n",
       "      <td>0.0</td>\n",
       "      <td>0.0</td>\n",
       "      <td>0.0</td>\n",
       "      <td>0.0</td>\n",
       "      <td>0.0</td>\n",
       "      <td>0.0</td>\n",
       "      <td>0.0</td>\n",
       "      <td>0.0</td>\n",
       "      <td>0.000000</td>\n",
       "      <td>0.000000</td>\n",
       "    </tr>\n",
       "    <tr>\n",
       "      <th>3</th>\n",
       "      <td>1.314016</td>\n",
       "      <td>1.0</td>\n",
       "      <td>1.0</td>\n",
       "      <td>0.0</td>\n",
       "      <td>0.0</td>\n",
       "      <td>0.0</td>\n",
       "      <td>1.0</td>\n",
       "      <td>1.0</td>\n",
       "      <td>0.0</td>\n",
       "      <td>0.0</td>\n",
       "      <td>...</td>\n",
       "      <td>0.0</td>\n",
       "      <td>0.0</td>\n",
       "      <td>0.0</td>\n",
       "      <td>0.0</td>\n",
       "      <td>0.0</td>\n",
       "      <td>0.0</td>\n",
       "      <td>0.0</td>\n",
       "      <td>0.0</td>\n",
       "      <td>0.000000</td>\n",
       "      <td>0.000000</td>\n",
       "    </tr>\n",
       "    <tr>\n",
       "      <th>4</th>\n",
       "      <td>1.314016</td>\n",
       "      <td>2.0</td>\n",
       "      <td>1.0</td>\n",
       "      <td>0.0</td>\n",
       "      <td>0.0</td>\n",
       "      <td>0.0</td>\n",
       "      <td>1.0</td>\n",
       "      <td>1.0</td>\n",
       "      <td>0.0</td>\n",
       "      <td>0.0</td>\n",
       "      <td>...</td>\n",
       "      <td>0.0</td>\n",
       "      <td>0.0</td>\n",
       "      <td>0.0</td>\n",
       "      <td>0.0</td>\n",
       "      <td>0.0</td>\n",
       "      <td>0.0</td>\n",
       "      <td>0.0</td>\n",
       "      <td>0.0</td>\n",
       "      <td>0.000000</td>\n",
       "      <td>0.000000</td>\n",
       "    </tr>\n",
       "    <tr>\n",
       "      <th>...</th>\n",
       "      <td>...</td>\n",
       "      <td>...</td>\n",
       "      <td>...</td>\n",
       "      <td>...</td>\n",
       "      <td>...</td>\n",
       "      <td>...</td>\n",
       "      <td>...</td>\n",
       "      <td>...</td>\n",
       "      <td>...</td>\n",
       "      <td>...</td>\n",
       "      <td>...</td>\n",
       "      <td>...</td>\n",
       "      <td>...</td>\n",
       "      <td>...</td>\n",
       "      <td>...</td>\n",
       "      <td>...</td>\n",
       "      <td>...</td>\n",
       "      <td>...</td>\n",
       "      <td>...</td>\n",
       "      <td>...</td>\n",
       "      <td>...</td>\n",
       "    </tr>\n",
       "    <tr>\n",
       "      <th>222</th>\n",
       "      <td>1.314016</td>\n",
       "      <td>2.0</td>\n",
       "      <td>0.0</td>\n",
       "      <td>0.0</td>\n",
       "      <td>0.0</td>\n",
       "      <td>1.0</td>\n",
       "      <td>0.0</td>\n",
       "      <td>0.0</td>\n",
       "      <td>1.0</td>\n",
       "      <td>0.0</td>\n",
       "      <td>...</td>\n",
       "      <td>0.0</td>\n",
       "      <td>0.0</td>\n",
       "      <td>0.0</td>\n",
       "      <td>0.0</td>\n",
       "      <td>0.0</td>\n",
       "      <td>0.0</td>\n",
       "      <td>0.0</td>\n",
       "      <td>0.0</td>\n",
       "      <td>0.000000</td>\n",
       "      <td>0.000000</td>\n",
       "    </tr>\n",
       "    <tr>\n",
       "      <th>223</th>\n",
       "      <td>1.227681</td>\n",
       "      <td>1.0</td>\n",
       "      <td>1.0</td>\n",
       "      <td>0.0</td>\n",
       "      <td>0.0</td>\n",
       "      <td>1.0</td>\n",
       "      <td>0.0</td>\n",
       "      <td>0.0</td>\n",
       "      <td>1.0</td>\n",
       "      <td>0.0</td>\n",
       "      <td>...</td>\n",
       "      <td>0.0</td>\n",
       "      <td>0.0</td>\n",
       "      <td>0.0</td>\n",
       "      <td>0.0</td>\n",
       "      <td>0.0</td>\n",
       "      <td>0.0</td>\n",
       "      <td>0.0</td>\n",
       "      <td>0.0</td>\n",
       "      <td>0.000000</td>\n",
       "      <td>0.000000</td>\n",
       "    </tr>\n",
       "    <tr>\n",
       "      <th>224</th>\n",
       "      <td>1.019336</td>\n",
       "      <td>1.0</td>\n",
       "      <td>1.0</td>\n",
       "      <td>0.0</td>\n",
       "      <td>0.0</td>\n",
       "      <td>0.0</td>\n",
       "      <td>1.0</td>\n",
       "      <td>1.0</td>\n",
       "      <td>0.0</td>\n",
       "      <td>0.0</td>\n",
       "      <td>...</td>\n",
       "      <td>0.0</td>\n",
       "      <td>0.0</td>\n",
       "      <td>0.0</td>\n",
       "      <td>0.0</td>\n",
       "      <td>0.0</td>\n",
       "      <td>0.0</td>\n",
       "      <td>0.0</td>\n",
       "      <td>0.0</td>\n",
       "      <td>0.000000</td>\n",
       "      <td>0.000000</td>\n",
       "    </tr>\n",
       "    <tr>\n",
       "      <th>225</th>\n",
       "      <td>1.363390</td>\n",
       "      <td>2.0</td>\n",
       "      <td>1.0</td>\n",
       "      <td>0.0</td>\n",
       "      <td>0.0</td>\n",
       "      <td>0.0</td>\n",
       "      <td>1.0</td>\n",
       "      <td>1.0</td>\n",
       "      <td>0.0</td>\n",
       "      <td>0.0</td>\n",
       "      <td>...</td>\n",
       "      <td>0.0</td>\n",
       "      <td>0.0</td>\n",
       "      <td>0.0</td>\n",
       "      <td>0.0</td>\n",
       "      <td>0.0</td>\n",
       "      <td>0.0</td>\n",
       "      <td>0.0</td>\n",
       "      <td>0.0</td>\n",
       "      <td>0.000000</td>\n",
       "      <td>0.459796</td>\n",
       "    </tr>\n",
       "    <tr>\n",
       "      <th>226</th>\n",
       "      <td>1.363390</td>\n",
       "      <td>2.0</td>\n",
       "      <td>1.0</td>\n",
       "      <td>0.0</td>\n",
       "      <td>0.0</td>\n",
       "      <td>0.0</td>\n",
       "      <td>1.0</td>\n",
       "      <td>1.0</td>\n",
       "      <td>0.0</td>\n",
       "      <td>0.0</td>\n",
       "      <td>...</td>\n",
       "      <td>0.0</td>\n",
       "      <td>0.0</td>\n",
       "      <td>0.0</td>\n",
       "      <td>0.0</td>\n",
       "      <td>0.0</td>\n",
       "      <td>0.0</td>\n",
       "      <td>0.0</td>\n",
       "      <td>0.0</td>\n",
       "      <td>0.000000</td>\n",
       "      <td>0.000000</td>\n",
       "    </tr>\n",
       "  </tbody>\n",
       "</table>\n",
       "<p>227 rows × 323 columns</p>\n",
       "</div>"
      ],
      "text/plain": [
       "     prep_time  cook_time  is_vegetarian  flavor_profile_bitter  \\\n",
       "0     1.463390        1.0            1.0                    0.0   \n",
       "1     1.509367        1.0            1.0                    0.0   \n",
       "2     1.314016        2.0            1.0                    0.0   \n",
       "3     1.314016        1.0            1.0                    0.0   \n",
       "4     1.314016        2.0            1.0                    0.0   \n",
       "..         ...        ...            ...                    ...   \n",
       "222   1.314016        2.0            0.0                    0.0   \n",
       "223   1.227681        1.0            1.0                    0.0   \n",
       "224   1.019336        1.0            1.0                    0.0   \n",
       "225   1.363390        2.0            1.0                    0.0   \n",
       "226   1.363390        2.0            1.0                    0.0   \n",
       "\n",
       "     flavor_profile_sour  flavor_profile_spicy  flavor_profile_sweet  \\\n",
       "0                    0.0                   0.0                   1.0   \n",
       "1                    0.0                   0.0                   1.0   \n",
       "2                    0.0                   0.0                   1.0   \n",
       "3                    0.0                   0.0                   1.0   \n",
       "4                    0.0                   0.0                   1.0   \n",
       "..                   ...                   ...                   ...   \n",
       "222                  0.0                   1.0                   0.0   \n",
       "223                  0.0                   1.0                   0.0   \n",
       "224                  0.0                   0.0                   1.0   \n",
       "225                  0.0                   0.0                   1.0   \n",
       "226                  0.0                   0.0                   1.0   \n",
       "\n",
       "     course_dessert  course_main course  course_snack  ...  ingre_whipping  \\\n",
       "0               1.0                 0.0           0.0  ...             0.0   \n",
       "1               1.0                 0.0           0.0  ...             0.0   \n",
       "2               1.0                 0.0           0.0  ...             0.0   \n",
       "3               1.0                 0.0           0.0  ...             0.0   \n",
       "4               1.0                 0.0           0.0  ...             0.0   \n",
       "..              ...                 ...           ...  ...             ...   \n",
       "222             0.0                 1.0           0.0  ...             0.0   \n",
       "223             0.0                 1.0           0.0  ...             0.0   \n",
       "224             1.0                 0.0           0.0  ...             0.0   \n",
       "225             1.0                 0.0           0.0  ...             0.0   \n",
       "226             1.0                 0.0           0.0  ...             0.0   \n",
       "\n",
       "     ingre_white  ingre_whole  ingre_wild  ingre_wine  ingre_yam  \\\n",
       "0            0.0          0.0         0.0         0.0        0.0   \n",
       "1            0.0          0.0         0.0         0.0        0.0   \n",
       "2            0.0          0.0         0.0         0.0        0.0   \n",
       "3            0.0          0.0         0.0         0.0        0.0   \n",
       "4            0.0          0.0         0.0         0.0        0.0   \n",
       "..           ...          ...         ...         ...        ...   \n",
       "222          0.0          0.0         0.0         0.0        0.0   \n",
       "223          0.0          0.0         0.0         0.0        0.0   \n",
       "224          0.0          0.0         0.0         0.0        0.0   \n",
       "225          0.0          0.0         0.0         0.0        0.0   \n",
       "226          0.0          0.0         0.0         0.0        0.0   \n",
       "\n",
       "     ingre_yellow  ingre_yoghurt  ingre_yogurt  ingre_yolks  \n",
       "0             0.0            0.0      0.531785     0.000000  \n",
       "1             0.0            0.0      0.000000     0.000000  \n",
       "2             0.0            0.0      0.000000     0.000000  \n",
       "3             0.0            0.0      0.000000     0.000000  \n",
       "4             0.0            0.0      0.000000     0.000000  \n",
       "..            ...            ...           ...          ...  \n",
       "222           0.0            0.0      0.000000     0.000000  \n",
       "223           0.0            0.0      0.000000     0.000000  \n",
       "224           0.0            0.0      0.000000     0.000000  \n",
       "225           0.0            0.0      0.000000     0.459796  \n",
       "226           0.0            0.0      0.000000     0.000000  \n",
       "\n",
       "[227 rows x 323 columns]"
      ]
     },
     "execution_count": 45,
     "metadata": {},
     "output_type": "execute_result"
    }
   ],
   "source": [
    "# standardize preparation time\n",
    "from sklearn.preprocessing import PowerTransformer\n",
    "scaler = PowerTransformer(method='box-cox', standardize=False)\n",
    "data_copy['prep_time'] = scaler.fit_transform(data_copy['prep_time'].values.reshape(-1, 1))\n",
    "data_copy"
   ]
  },
  {
   "cell_type": "code",
   "execution_count": 46,
   "metadata": {},
   "outputs": [
    {
     "data": {
      "text/plain": [
       "<matplotlib.axes._subplots.AxesSubplot at 0x1eeb6bc8be0>"
      ]
     },
     "execution_count": 46,
     "metadata": {},
     "output_type": "execute_result"
    },
    {
     "data": {
      "image/png": "[encoded data removed]",
      "text/plain": [
       "<Figure size 432x288 with 1 Axes>"
      ]
     },
     "metadata": {
      "needs_background": "light"
     },
     "output_type": "display_data"
    }
   ],
   "source": [
    "# the distribution before transformation\n",
    "sns.histplot(data=train_info, x='prep_time')"
   ]
  },
  {
   "cell_type": "code",
   "execution_count": 47,
   "metadata": {},
   "outputs": [
    {
     "data": {
      "text/plain": [
       "<matplotlib.axes._subplots.AxesSubplot at 0x1eeb6daa5e0>"
      ]
     },
     "execution_count": 47,
     "metadata": {},
     "output_type": "execute_result"
    },
    {
     "data": {
      "image/png": "[encoded data removed]",
      "text/plain": [
       "<Figure size 432x288 with 1 Axes>"
      ]
     },
     "metadata": {
      "needs_background": "light"
     },
     "output_type": "display_data"
    }
   ],
   "source": [
    "# the distribution post transformation\n",
    "sns.histplot(data=data_copy, x='prep_time')"
   ]
  },
  {
   "cell_type": "code",
   "execution_count": 48,
   "metadata": {},
   "outputs": [],
   "source": [
    "x2 = data_copy.drop('cook_time', axis=1)\n",
    "y2 = data_copy['cook_time']"
   ]
  },
  {
   "cell_type": "code",
   "execution_count": 49,
   "metadata": {},
   "outputs": [
    {
     "name": "stdout",
     "output_type": "stream",
     "text": [
      "Mean Accuracy: 0.598 (0.047)\n",
      "Mean Accuracy: 0.602 (0.047)\n",
      "Mean Accuracy: 0.596 (0.042)\n",
      "Mean Accuracy: 0.596 (0.030)\n"
     ]
    }
   ],
   "source": [
    "# fit the models again -- the improvement is not so significant (yet!)\n",
    "logistic = LogisticRegression()\n",
    "scores = evaluate_model(x2, y2, logistic)\n",
    "print('Mean Accuracy: %.3f (%.3f)' % (mean(scores), std(scores)))\n",
    "\n",
    "rfc = RandomForestClassifier(random_state=0)\n",
    "scores = evaluate_model(x2, y2, rfc)\n",
    "print('Mean Accuracy: %.3f (%.3f)' % (mean(scores), std(scores)))\n",
    "\n",
    "clf = MultinomialNB()\n",
    "scores = evaluate_model(x2, y2, clf)\n",
    "print('Mean Accuracy: %.3f (%.3f)' % (mean(scores), std(scores)))\n",
    "\n",
    "svm = SVC(random_state=0)\n",
    "scores = evaluate_model(x2, y2, svm)\n",
    "print('Mean Accuracy: %.3f (%.3f)' % (mean(scores), std(scores)))"
   ]
  },
  {
   "cell_type": "markdown",
   "metadata": {},
   "source": [
    "Another problem about this dataset is that it's imbalanced. The number of slow-cooked dishes are way smaller than the other 2 categories. Thus, we are going to use a resampling method to see if fixing this problem will help improve the model as well."
   ]
  },
  {
   "cell_type": "code",
   "execution_count": 50,
   "metadata": {},
   "outputs": [],
   "source": [
    "from imblearn.over_sampling import SMOTENC"
   ]
  },
  {
   "cell_type": "code",
   "execution_count": 51,
   "metadata": {},
   "outputs": [],
   "source": [
    "X_resampled, y_resampled = SMOTENC(categorical_features=range(1, 11), random_state=0, \n",
    "sampling_strategy='minority').fit_resample(x2, y2)\n",
    "X_resampled, y_resampled = SMOTENC(categorical_features=range(1, 11), random_state=0, \n",
    "sampling_strategy='minority').fit_resample(X_resampled, y_resampled)"
   ]
  },
  {
   "cell_type": "code",
   "execution_count": 52,
   "metadata": {},
   "outputs": [
    {
     "name": "stdout",
     "output_type": "stream",
     "text": [
      "Mean Accuracy: 0.768 (0.030)\n",
      "Mean Accuracy: 0.785 (0.041)\n",
      "Mean Accuracy: 0.645 (0.048)\n",
      "Mean Accuracy: 0.750 (0.054)\n"
     ]
    }
   ],
   "source": [
    "# fit the models again -- the improvement is not so significant (yet!)\n",
    "logistic = LogisticRegression()\n",
    "scores = evaluate_model(X_resampled, y_resampled, logistic)\n",
    "print('Mean Accuracy: %.3f (%.3f)' % (mean(scores), std(scores)))\n",
    "\n",
    "rfc = RandomForestClassifier(random_state=0)\n",
    "scores = evaluate_model(X_resampled, y_resampled, rfc)\n",
    "print('Mean Accuracy: %.3f (%.3f)' % (mean(scores), std(scores)))\n",
    "\n",
    "clf = MultinomialNB()\n",
    "scores = evaluate_model(X_resampled, y_resampled, clf)\n",
    "print('Mean Accuracy: %.3f (%.3f)' % (mean(scores), std(scores)))\n",
    "\n",
    "svm = SVC(random_state=0)\n",
    "scores = evaluate_model(X_resampled, y_resampled, svm)\n",
    "print('Mean Accuracy: %.3f (%.3f)' % (mean(scores), std(scores)))"
   ]
  },
  {
   "cell_type": "markdown",
   "metadata": {},
   "source": [
    "### Feature selection "
   ]
  },
  {
   "cell_type": "markdown",
   "metadata": {},
   "source": [
    "By using feature selection techniques to only keep a subset of significant features, we reduce the complexity of the modeland lessen the effect of overfitting, and the model will also be less costly to be put into production. For this task, we will use 2 different feature selection methods to select the best subset of features: mutual information and chi-square, and select the technique that yields better results. Unlike chi-square, mutual information deals with datasets that have both categorical and numerical features, which is the characteristics of our dataset. However, since we only have 1 numerical feature, chi-square may still perform just as well, and we are going to examine that."
   ]
  },
  {
   "cell_type": "markdown",
   "metadata": {},
   "source": [
    "#### Mutual information"
   ]
  },
  {
   "cell_type": "code",
   "execution_count": 53,
   "metadata": {},
   "outputs": [],
   "source": [
    "from functools import partial\n",
    "from sklearn.feature_selection import mutual_info_classif\n",
    "discrete_feat_idx = range(1, 11)\n",
    "score_func = partial(mutual_info_classif, discrete_features=discrete_feat_idx, random_state=0)\n",
    "k_vals = list(np.arange(300, step=10))"
   ]
  },
  {
   "cell_type": "code",
   "execution_count": 54,
   "metadata": {},
   "outputs": [],
   "source": [
    "from sklearn.feature_selection import SelectKBest\n",
    "import warnings\n",
    "\n",
    "warnings.filterwarnings(\"ignore\")\n",
    "\n",
    "def select_features_mutual_info(X_train, Y_train, k_val):\n",
    "    fs = SelectKBest(score_func=score_func, k=k_val)\n",
    "    fs.fit(X_train, Y_train)\n",
    "    X_train_fs = fs.transform(X_train)\n",
    "    return X_train_fs, fs"
   ]
  },
  {
   "cell_type": "code",
   "execution_count": 55,
   "metadata": {},
   "outputs": [
    {
     "data": {
      "text/plain": [
       "<BarContainer object of 322 artists>"
      ]
     },
     "execution_count": 55,
     "metadata": {},
     "output_type": "execute_result"
    },
    {
     "data": {
      "image/png": "[encoded data removed]",
      "text/plain": [
       "<Figure size 432x288 with 1 Axes>"
      ]
     },
     "metadata": {
      "needs_background": "light"
     },
     "output_type": "display_data"
    }
   ],
   "source": [
    "x_train_fs, fs = select_features_mutual_info(x_full, cook_time, 'all')\n",
    "plt.bar([i for i in range(len(fs.scores_))], fs.scores_)"
   ]
  },
  {
   "cell_type": "markdown",
   "metadata": {},
   "source": [
    "We only need to keep a handful features that have significant implications for the model."
   ]
  },
  {
   "cell_type": "markdown",
   "metadata": {},
   "source": [
    "#### Logistic Regression\n"
   ]
  },
  {
   "cell_type": "code",
   "execution_count": 56,
   "metadata": {},
   "outputs": [
    {
     "data": {
      "image/png": "[encoded data removed]",
      "text/plain": [
       "<Figure size 432x288 with 1 Axes>"
      ]
     },
     "metadata": {
      "needs_background": "light"
     },
     "output_type": "display_data"
    },
    {
     "name": "stdout",
     "output_type": "stream",
     "text": [
      "0.6548792270531401\n",
      "70\n"
     ]
    }
   ],
   "source": [
    "# original\n",
    "acc = []\n",
    "for k in k_vals:\n",
    "    x_train_fs, fs = select_features_mutual_info(x_full, cook_time, k_val=k)\n",
    "    lr_mutual_info = LogisticRegression()\n",
    "    scores = evaluate_model(x_train_fs, cook_time, lr_mutual_info)\n",
    "    acc.append(mean(scores))\n",
    "plt.plot(k_vals, acc)\n",
    "plt.show()\n",
    "print(max(acc[1:]))\n",
    "print(k_vals[acc.index(max(acc[1:]))])\n",
    "# best is k=70"
   ]
  },
  {
   "cell_type": "code",
   "execution_count": 57,
   "metadata": {},
   "outputs": [
    {
     "data": {
      "image/png": "[encoded data removed]",
      "text/plain": [
       "<Figure size 432x288 with 1 Axes>"
      ]
     },
     "metadata": {
      "needs_background": "light"
     },
     "output_type": "display_data"
    },
    {
     "name": "stdout",
     "output_type": "stream",
     "text": [
      "0.6460869565217391\n",
      "70\n"
     ]
    }
   ],
   "source": [
    "# post-trans\n",
    "acc = []\n",
    "for k in k_vals:\n",
    "    x_train_fs, fs = select_features_mutual_info(x2, y2, k_val=k)\n",
    "    lr_mutual_info = LogisticRegression()\n",
    "    scores = evaluate_model(x_train_fs, y2, lr_mutual_info)\n",
    "    acc.append(mean(scores))\n",
    "plt.plot(k_vals, acc)\n",
    "plt.show()\n",
    "print(max(acc[1:]))\n",
    "print(k_vals[acc.index(max(acc[1:]))])\n",
    "# best k = 70"
   ]
  },
  {
   "cell_type": "code",
   "execution_count": 58,
   "metadata": {},
   "outputs": [
    {
     "data": {
      "image/png": "[encoded data removed]",
      "text/plain": [
       "<Figure size 432x288 with 1 Axes>"
      ]
     },
     "metadata": {
      "needs_background": "light"
     },
     "output_type": "display_data"
    },
    {
     "name": "stdout",
     "output_type": "stream",
     "text": [
      "0.7778318727685818\n",
      "230\n"
     ]
    }
   ],
   "source": [
    "# resampled \n",
    "acc = []\n",
    "for k in k_vals:\n",
    "    x_train_fs, fs = select_features_mutual_info(X_resampled, y_resampled, k_val=k)\n",
    "    lr_mutual_info = LogisticRegression()\n",
    "    scores = evaluate_model(x_train_fs, y_resampled, lr_mutual_info)\n",
    "    acc.append(mean(scores))\n",
    "plt.plot(k_vals, acc)\n",
    "plt.show()\n",
    "print(max(acc[1:]))\n",
    "print(k_vals[acc.index(max(acc[1:]))])\n",
    "# best k = 230"
   ]
  },
  {
   "cell_type": "markdown",
   "metadata": {},
   "source": [
    "#### Random forest"
   ]
  },
  {
   "cell_type": "code",
   "execution_count": 59,
   "metadata": {},
   "outputs": [
    {
     "data": {
      "image/png": "[encoded data removed]",
      "text/plain": [
       "<Figure size 432x288 with 1 Axes>"
      ]
     },
     "metadata": {
      "needs_background": "light"
     },
     "output_type": "display_data"
    },
    {
     "name": "stdout",
     "output_type": "stream",
     "text": [
      "0.602061191626409\n",
      "160\n"
     ]
    }
   ],
   "source": [
    "# original\n",
    "acc = []\n",
    "for k in k_vals:\n",
    "    x_train_fs, fs = select_features_mutual_info(x_full, cook_time, k_val=k)\n",
    "    rfc_mutual_info = RandomForestClassifier(random_state=0)\n",
    "    scores = evaluate_model(x_train_fs, cook_time, rfc_mutual_info)\n",
    "    acc.append(mean(scores))\n",
    "plt.plot(k_vals, acc)\n",
    "plt.show()\n",
    "print(max(acc[1:]))\n",
    "print(k_vals[acc.index(max(acc[1:]))])\n",
    "#best k = 160"
   ]
  },
  {
   "cell_type": "code",
   "execution_count": 60,
   "metadata": {},
   "outputs": [
    {
     "data": {
      "image/png": "[encoded data removed]",
      "text/plain": [
       "<Figure size 432x288 with 1 Axes>"
      ]
     },
     "metadata": {
      "needs_background": "light"
     },
     "output_type": "display_data"
    },
    {
     "name": "stdout",
     "output_type": "stream",
     "text": [
      "0.6035104669887279\n",
      "160\n"
     ]
    }
   ],
   "source": [
    "# post-trans\n",
    "acc = []\n",
    "for k in k_vals:\n",
    "    x_train_fs, fs = select_features_mutual_info(x2, y2, k_val=k)\n",
    "    rfc_mutual_info = RandomForestClassifier(random_state=0)\n",
    "    scores = evaluate_model(x_train_fs, y2, rfc_mutual_info)\n",
    "    acc.append(mean(scores))\n",
    "plt.plot(k_vals, acc)\n",
    "plt.show()\n",
    "print(max(acc[1:]))\n",
    "print(k_vals[acc.index(max(acc[1:]))])\n",
    "#best k = 160"
   ]
  },
  {
   "cell_type": "code",
   "execution_count": 61,
   "metadata": {},
   "outputs": [
    {
     "data": {
      "image/png": "[encoded data removed]",
      "text/plain": [
       "<Figure size 432x288 with 1 Axes>"
      ]
     },
     "metadata": {
      "needs_background": "light"
     },
     "output_type": "display_data"
    },
    {
     "name": "stdout",
     "output_type": "stream",
     "text": [
      "0.7956832197338528\n",
      "160\n"
     ]
    }
   ],
   "source": [
    "# resampled\n",
    "acc = []\n",
    "for k in k_vals:\n",
    "    x_train_fs, fs = select_features_mutual_info(X_resampled, y_resampled, k_val=k)\n",
    "    rfc_mutual_info = RandomForestClassifier(random_state=0)\n",
    "    scores = evaluate_model(x_train_fs, y_resampled, rfc_mutual_info)\n",
    "    acc.append(mean(scores))\n",
    "plt.plot(k_vals, acc)\n",
    "plt.show()\n",
    "print(max(acc[1:]))\n",
    "print(k_vals[acc.index(max(acc[1:]))])\n",
    "#best k = 160"
   ]
  },
  {
   "cell_type": "markdown",
   "metadata": {},
   "source": [
    "#### Multinomial Naive Bayes"
   ]
  },
  {
   "cell_type": "code",
   "execution_count": 62,
   "metadata": {},
   "outputs": [
    {
     "data": {
      "image/png": "[encoded data removed]",
      "text/plain": [
       "<Figure size 432x288 with 1 Axes>"
      ]
     },
     "metadata": {
      "needs_background": "light"
     },
     "output_type": "display_data"
    },
    {
     "name": "stdout",
     "output_type": "stream",
     "text": [
      "0.6137520128824475\n",
      "70\n"
     ]
    }
   ],
   "source": [
    "# original\n",
    "acc = []\n",
    "for k in k_vals:\n",
    "    x_train_fs, fs = select_features_mutual_info(x_full, cook_time, k_val=k)\n",
    "    clf_mutual_info = MultinomialNB()\n",
    "    scores = evaluate_model(x_train_fs, cook_time, clf_mutual_info)\n",
    "    acc.append(mean(scores))\n",
    "plt.plot(k_vals, acc)\n",
    "plt.show()\n",
    "print(max(acc[1:]))\n",
    "print(k_vals[acc.index(max(acc[1:]))])\n",
    "#best k = 100"
   ]
  },
  {
   "cell_type": "code",
   "execution_count": 63,
   "metadata": {},
   "outputs": [
    {
     "data": {
      "image/png": "[encoded data removed]",
      "text/plain": [
       "<Figure size 432x288 with 1 Axes>"
      ]
     },
     "metadata": {
      "needs_background": "light"
     },
     "output_type": "display_data"
    },
    {
     "name": "stdout",
     "output_type": "stream",
     "text": [
      "0.6094685990338163\n",
      "70\n"
     ]
    }
   ],
   "source": [
    "# post-trans\n",
    "acc = []\n",
    "for k in k_vals:\n",
    "    x_train_fs, fs = select_features_mutual_info(x2, y2, k_val=k)\n",
    "    clf_mutual_info = MultinomialNB()\n",
    "    scores = evaluate_model(x_train_fs, y2, clf_mutual_info)\n",
    "    acc.append(mean(scores))\n",
    "plt.plot(k_vals, acc)\n",
    "plt.show()\n",
    "print(max(acc[1:]))\n",
    "print(k_vals[acc.index(max(acc[1:]))])\n",
    "# best k = 100"
   ]
  },
  {
   "cell_type": "code",
   "execution_count": 64,
   "metadata": {},
   "outputs": [
    {
     "data": {
      "image/png": "[encoded data removed]",
      "text/plain": [
       "<Figure size 432x288 with 1 Axes>"
      ]
     },
     "metadata": {
      "needs_background": "light"
     },
     "output_type": "display_data"
    },
    {
     "name": "stdout",
     "output_type": "stream",
     "text": [
      "0.6795304554798226\n",
      "70\n"
     ]
    }
   ],
   "source": [
    "# resampled\n",
    "k_vals2 = list(np.arange(322, step=10))\n",
    "acc = []\n",
    "for k in k_vals2:\n",
    "    x_train_fs, fs = select_features_mutual_info(X_resampled, y_resampled, k_val=k)\n",
    "    clf_mutual_info = MultinomialNB()\n",
    "    scores = evaluate_model(x_train_fs, y_resampled, clf_mutual_info)\n",
    "    acc.append(mean(scores))\n",
    "plt.plot(k_vals2, acc)\n",
    "plt.show()\n",
    "print(max(acc[1:]))\n",
    "print(k_vals2[acc.index(max(acc[1:]))])\n",
    "#best k = 70"
   ]
  },
  {
   "cell_type": "markdown",
   "metadata": {},
   "source": [
    "#### SVM"
   ]
  },
  {
   "cell_type": "code",
   "execution_count": 65,
   "metadata": {},
   "outputs": [
    {
     "data": {
      "image/png": "[encoded data removed]",
      "text/plain": [
       "<Figure size 432x288 with 1 Axes>"
      ]
     },
     "metadata": {
      "needs_background": "light"
     },
     "output_type": "display_data"
    },
    {
     "name": "stdout",
     "output_type": "stream",
     "text": [
      "0.613719806763285\n",
      "50\n"
     ]
    }
   ],
   "source": [
    "# original\n",
    "acc = []\n",
    "for k in k_vals:\n",
    "    x_train_fs, fs = select_features_mutual_info(x_full, cook_time, k_val=k)\n",
    "    svm_mutual_info = SVC(random_state=0)\n",
    "    scores = evaluate_model(x_train_fs, cook_time, svm_mutual_info)\n",
    "    acc.append(mean(scores))\n",
    "plt.plot(k_vals, acc)\n",
    "plt.show()\n",
    "print(max(acc[1:]))\n",
    "print(k_vals[acc.index(max(acc[1:]))])\n",
    "# best k = 50"
   ]
  },
  {
   "cell_type": "code",
   "execution_count": 66,
   "metadata": {},
   "outputs": [
    {
     "data": {
      "image/png": "[encoded data removed]",
      "text/plain": [
       "<Figure size 432x288 with 1 Axes>"
      ]
     },
     "metadata": {
      "needs_background": "light"
     },
     "output_type": "display_data"
    },
    {
     "name": "stdout",
     "output_type": "stream",
     "text": [
      "0.6036714975845411\n",
      "10\n"
     ]
    }
   ],
   "source": [
    "# post-trans\n",
    "acc = []\n",
    "for k in k_vals:\n",
    "    x_train_fs, fs = select_features_mutual_info(x2, y2, k_val=k)\n",
    "    svm_mutual_info = SVC(random_state=0)\n",
    "    scores = evaluate_model(x_train_fs, y2, svm_mutual_info)\n",
    "    acc.append(mean(scores))\n",
    "plt.plot(k_vals, acc)\n",
    "plt.show()\n",
    "print(max(acc[1:]))\n",
    "print(k_vals[acc.index(max(acc[1:]))])\n",
    "#best k = 10"
   ]
  },
  {
   "cell_type": "code",
   "execution_count": 67,
   "metadata": {},
   "outputs": [
    {
     "data": {
      "image/png": "[encoded data removed]",
      "text/plain": [
       "<Figure size 432x288 with 1 Axes>"
      ]
     },
     "metadata": {
      "needs_background": "light"
     },
     "output_type": "display_data"
    },
    {
     "name": "stdout",
     "output_type": "stream",
     "text": [
      "0.7524288650870931\n",
      "130\n"
     ]
    }
   ],
   "source": [
    "# resampled\n",
    "acc = []\n",
    "for k in k_vals2:\n",
    "    x_train_fs, fs = select_features_mutual_info(X_resampled, y_resampled, k_val=k)\n",
    "    svm_mutual_info = SVC(random_state=0)\n",
    "    scores = evaluate_model(x_train_fs, y_resampled, svm_mutual_info)\n",
    "    acc.append(mean(scores))\n",
    "plt.plot(k_vals2, acc)\n",
    "plt.show()\n",
    "print(max(acc[1:]))\n",
    "print(k_vals2[acc.index(max(acc[1:]))])\n",
    "#best k = 130"
   ]
  },
  {
   "cell_type": "markdown",
   "metadata": {},
   "source": [
    "### Chi-square"
   ]
  },
  {
   "cell_type": "code",
   "execution_count": 68,
   "metadata": {},
   "outputs": [],
   "source": [
    "from sklearn.feature_selection import chi2\n",
    "def select_features_chi2(X_train, Y_train, k_val):\n",
    "    fs = SelectKBest(score_func=chi2, k=k_val)\n",
    "    fs.fit(X_train, Y_train)\n",
    "    X_train_fs = fs.transform(X_train)\n",
    "    # X_test_fs = fs.transform(X_test)\n",
    "    return X_train_fs, fs"
   ]
  },
  {
   "cell_type": "markdown",
   "metadata": {},
   "source": [
    "#### Logistic regression"
   ]
  },
  {
   "cell_type": "code",
   "execution_count": 69,
   "metadata": {},
   "outputs": [
    {
     "data": {
      "image/png": "[encoded data removed]",
      "text/plain": [
       "<Figure size 432x288 with 1 Axes>"
      ]
     },
     "metadata": {
      "needs_background": "light"
     },
     "output_type": "display_data"
    },
    {
     "name": "stdout",
     "output_type": "stream",
     "text": [
      "0.673977455716586\n",
      "80\n"
     ]
    }
   ],
   "source": [
    "# original\n",
    "acc = []\n",
    "for k in k_vals:\n",
    "    x_train_fs, fs = select_features_chi2(x_full, cook_time, k_val=k)\n",
    "    lr_mutual_info = LogisticRegression()\n",
    "    scores = evaluate_model(x_train_fs, cook_time, lr_mutual_info)\n",
    "    acc.append(mean(scores))\n",
    "plt.plot(k_vals, acc)\n",
    "plt.show()\n",
    "print(max(acc[1:]))\n",
    "print(k_vals[acc.index(max(acc[1:]))])\n",
    "# best is k=80"
   ]
  },
  {
   "cell_type": "code",
   "execution_count": 70,
   "metadata": {},
   "outputs": [
    {
     "data": {
      "image/png": "[encoded data removed]",
      "text/plain": [
       "<Figure size 432x288 with 1 Axes>"
      ]
     },
     "metadata": {
      "needs_background": "light"
     },
     "output_type": "display_data"
    },
    {
     "name": "stdout",
     "output_type": "stream",
     "text": [
      "0.6609339774557165\n",
      "80\n"
     ]
    }
   ],
   "source": [
    "# post-trans\n",
    "acc = []\n",
    "for k in k_vals:\n",
    "    x_train_fs, fs = select_features_chi2(x2, y2, k_val=k)\n",
    "    lr_mutual_info = LogisticRegression()\n",
    "    scores = evaluate_model(x_train_fs, y2, lr_mutual_info)\n",
    "    acc.append(mean(scores))\n",
    "plt.plot(k_vals, acc)\n",
    "plt.show()\n",
    "print(max(acc[1:]))\n",
    "print(k_vals[acc.index(max(acc[1:]))])\n",
    "# best k = 80"
   ]
  },
  {
   "cell_type": "code",
   "execution_count": 71,
   "metadata": {},
   "outputs": [
    {
     "data": {
      "image/png": "[encoded data removed]",
      "text/plain": [
       "<Figure size 432x288 with 1 Axes>"
      ]
     },
     "metadata": {
      "needs_background": "light"
     },
     "output_type": "display_data"
    },
    {
     "name": "stdout",
     "output_type": "stream",
     "text": [
      "0.783760683760684\n",
      "90\n"
     ]
    }
   ],
   "source": [
    "# resampled \n",
    "acc = []\n",
    "for k in k_vals:\n",
    "    x_train_fs, fs = select_features_chi2(X_resampled, y_resampled, k_val=k)\n",
    "    lr_mutual_info = LogisticRegression()\n",
    "    scores = evaluate_model(x_train_fs, y_resampled, lr_mutual_info)\n",
    "    acc.append(mean(scores))\n",
    "plt.plot(k_vals, acc)\n",
    "plt.show()\n",
    "print(max(acc[1:]))\n",
    "print(k_vals[acc.index(max(acc[1:]))])\n",
    "# best k = 90"
   ]
  },
  {
   "cell_type": "markdown",
   "metadata": {},
   "source": [
    "#### Random forest"
   ]
  },
  {
   "cell_type": "code",
   "execution_count": 72,
   "metadata": {},
   "outputs": [
    {
     "data": {
      "image/png": "[encoded data removed]",
      "text/plain": [
       "<Figure size 432x288 with 1 Axes>"
      ]
     },
     "metadata": {
      "needs_background": "light"
     },
     "output_type": "display_data"
    },
    {
     "name": "stdout",
     "output_type": "stream",
     "text": [
      "0.6227697262479871\n",
      "60\n"
     ]
    }
   ],
   "source": [
    "# original\n",
    "acc = []\n",
    "for k in k_vals:\n",
    "    x_train_fs, fs = select_features_chi2(x_full, cook_time, k_val=k)\n",
    "    rfc_mutual_info = RandomForestClassifier(random_state=0)\n",
    "    scores = evaluate_model(x_train_fs, cook_time, rfc_mutual_info)\n",
    "    acc.append(mean(scores))\n",
    "plt.plot(k_vals, acc)\n",
    "plt.show()\n",
    "print(max(acc[1:]))\n",
    "print(k_vals[acc.index(max(acc[1:]))])\n",
    "# best k = 60"
   ]
  },
  {
   "cell_type": "code",
   "execution_count": 73,
   "metadata": {},
   "outputs": [
    {
     "data": {
      "image/png": "[encoded data removed]",
      "text/plain": [
       "<Figure size 432x288 with 1 Axes>"
      ]
     },
     "metadata": {
      "needs_background": "light"
     },
     "output_type": "display_data"
    },
    {
     "name": "stdout",
     "output_type": "stream",
     "text": [
      "0.6477294685990337\n",
      "30\n"
     ]
    }
   ],
   "source": [
    "# post-trans\n",
    "acc = []\n",
    "for k in k_vals:\n",
    "    x_train_fs, fs = select_features_chi2(x2, y2, k_val=k)\n",
    "    rfc_mutual_info = RandomForestClassifier(random_state=0)\n",
    "    scores = evaluate_model(x_train_fs, y2, rfc_mutual_info)\n",
    "    acc.append(mean(scores))\n",
    "plt.plot(k_vals, acc)\n",
    "plt.show()\n",
    "print(max(acc[1:]))\n",
    "print(k_vals[acc.index(max(acc[1:]))])\n",
    "# best k = 30"
   ]
  },
  {
   "cell_type": "code",
   "execution_count": 74,
   "metadata": {},
   "outputs": [
    {
     "data": {
      "image/png": "[encoded data removed]",
      "text/plain": [
       "<Figure size 432x288 with 1 Axes>"
      ]
     },
     "metadata": {
      "needs_background": "light"
     },
     "output_type": "display_data"
    },
    {
     "name": "stdout",
     "output_type": "stream",
     "text": [
      "0.7930974791734288\n",
      "270\n"
     ]
    }
   ],
   "source": [
    "# resampled\n",
    "acc = []\n",
    "for k in k_vals:\n",
    "    x_train_fs, fs = select_features_chi2(X_resampled, y_resampled, k_val=k)\n",
    "    rfc_mutual_info = RandomForestClassifier(random_state=0)\n",
    "    scores = evaluate_model(x_train_fs, y_resampled, rfc_mutual_info)\n",
    "    acc.append(mean(scores))\n",
    "plt.plot(k_vals, acc)\n",
    "plt.show()\n",
    "print(max(acc[1:]))\n",
    "print(k_vals[acc.index(max(acc[1:]))])\n",
    "#best k =270"
   ]
  },
  {
   "cell_type": "markdown",
   "metadata": {},
   "source": [
    "#### Multinomial Naive Bayes"
   ]
  },
  {
   "cell_type": "code",
   "execution_count": 75,
   "metadata": {},
   "outputs": [
    {
     "data": {
      "image/png": "[encoded data removed]",
      "text/plain": [
       "<Figure size 432x288 with 1 Axes>"
      ]
     },
     "metadata": {
      "needs_background": "light"
     },
     "output_type": "display_data"
    },
    {
     "name": "stdout",
     "output_type": "stream",
     "text": [
      "0.6532689210950079\n",
      "70\n"
     ]
    }
   ],
   "source": [
    "# original\n",
    "acc = []\n",
    "for k in k_vals:\n",
    "    x_train_fs, fs = select_features_chi2(x_full, cook_time, k_val=k)\n",
    "    clf_mutual_info = MultinomialNB()\n",
    "    scores = evaluate_model(x_train_fs, cook_time, clf_mutual_info)\n",
    "    acc.append(mean(scores))\n",
    "plt.plot(k_vals, acc)\n",
    "plt.show()\n",
    "print(max(acc[1:]))\n",
    "print(k_vals[acc.index(max(acc[1:]))])\n",
    "#best k = 70"
   ]
  },
  {
   "cell_type": "code",
   "execution_count": 76,
   "metadata": {},
   "outputs": [
    {
     "data": {
      "image/png": "[encoded data removed]",
      "text/plain": [
       "<Figure size 432x288 with 1 Axes>"
      ]
     },
     "metadata": {
      "needs_background": "light"
     },
     "output_type": "display_data"
    },
    {
     "name": "stdout",
     "output_type": "stream",
     "text": [
      "0.6798711755233493\n",
      "100\n"
     ]
    }
   ],
   "source": [
    "# post-trans\n",
    "acc = []\n",
    "for k in k_vals:\n",
    "    x_train_fs, fs = select_features_chi2(x2, y2, k_val=k)\n",
    "    clf_mutual_info = MultinomialNB()\n",
    "    scores = evaluate_model(x_train_fs, y2, clf_mutual_info)\n",
    "    acc.append(mean(scores))\n",
    "plt.plot(k_vals, acc)\n",
    "plt.show()\n",
    "print(max(acc[1:]))\n",
    "print(k_vals[acc.index(max(acc[1:]))])\n",
    "#best k = 100"
   ]
  },
  {
   "cell_type": "code",
   "execution_count": 77,
   "metadata": {},
   "outputs": [
    {
     "data": {
      "image/png": "[encoded data removed]",
      "text/plain": [
       "<Figure size 432x288 with 1 Axes>"
      ]
     },
     "metadata": {
      "needs_background": "light"
     },
     "output_type": "display_data"
    },
    {
     "name": "stdout",
     "output_type": "stream",
     "text": [
      "0.6794763604890188\n",
      "140\n"
     ]
    }
   ],
   "source": [
    "# resampled\n",
    "acc = []\n",
    "for k in k_vals:\n",
    "    x_train_fs, fs = select_features_chi2(X_resampled, y_resampled, k_val=k)\n",
    "    clf_mutual_info = MultinomialNB()\n",
    "    scores = evaluate_model(x_train_fs, y_resampled, clf_mutual_info)\n",
    "    acc.append(mean(scores))\n",
    "plt.plot(k_vals, acc)\n",
    "plt.show()\n",
    "print(max(acc[1:]))\n",
    "print(k_vals[acc.index(max(acc[1:]))])\n",
    "#best k = 140"
   ]
  },
  {
   "cell_type": "markdown",
   "metadata": {},
   "source": [
    "#### SVM"
   ]
  },
  {
   "cell_type": "code",
   "execution_count": 78,
   "metadata": {},
   "outputs": [
    {
     "data": {
      "image/png": "[encoded data removed]",
      "text/plain": [
       "<Figure size 432x288 with 1 Axes>"
      ]
     },
     "metadata": {
      "needs_background": "light"
     },
     "output_type": "display_data"
    },
    {
     "name": "stdout",
     "output_type": "stream",
     "text": [
      "0.5829307568438004\n",
      "10\n"
     ]
    }
   ],
   "source": [
    "# original\n",
    "acc = []\n",
    "for k in k_vals:\n",
    "    x_train_fs, fs = select_features_chi2(x_full, cook_time, k_val=k)\n",
    "    svm_mutual_info = SVC(random_state=0)\n",
    "    scores = evaluate_model(x_train_fs, cook_time, svm_mutual_info)\n",
    "    acc.append(mean(scores))\n",
    "plt.plot(k_vals, acc)\n",
    "plt.show()\n",
    "print(max(acc[1:]))\n",
    "print(k_vals[acc.index(max(acc[1:]))])"
   ]
  },
  {
   "cell_type": "code",
   "execution_count": 79,
   "metadata": {},
   "outputs": [
    {
     "data": {
      "image/png": "[encoded data removed]",
      "text/plain": [
       "<Figure size 432x288 with 1 Axes>"
      ]
     },
     "metadata": {
      "needs_background": "light"
     },
     "output_type": "display_data"
    },
    {
     "name": "stdout",
     "output_type": "stream",
     "text": [
      "0.6550080515297906\n",
      "50\n"
     ]
    }
   ],
   "source": [
    "# post-trans\n",
    "acc = []\n",
    "for k in k_vals:\n",
    "    x_train_fs, fs = select_features_chi2(x2, y2, k_val=k)\n",
    "    svm_mutual_info = SVC(random_state=0)\n",
    "    scores = evaluate_model(x_train_fs, y2, svm_mutual_info)\n",
    "    acc.append(mean(scores))\n",
    "plt.plot(k_vals, acc)\n",
    "plt.show()\n",
    "print(max(acc[1:]))\n",
    "print(k_vals[acc.index(max(acc[1:]))])\n",
    "#best k = 50"
   ]
  },
  {
   "cell_type": "code",
   "execution_count": 80,
   "metadata": {},
   "outputs": [
    {
     "data": {
      "image/png": "[encoded data removed]",
      "text/plain": [
       "<Figure size 432x288 with 1 Axes>"
      ]
     },
     "metadata": {
      "needs_background": "light"
     },
     "output_type": "display_data"
    },
    {
     "name": "stdout",
     "output_type": "stream",
     "text": [
      "0.7794979984853403\n",
      "90\n"
     ]
    }
   ],
   "source": [
    "# resampled\n",
    "acc = []\n",
    "for k in k_vals2:\n",
    "    x_train_fs, fs = select_features_chi2(X_resampled, y_resampled, k_val=k)\n",
    "    svm_mutual_info = SVC(random_state=0)\n",
    "    scores = evaluate_model(x_train_fs, y_resampled, svm_mutual_info)\n",
    "    acc.append(mean(scores))\n",
    "plt.plot(k_vals2, acc)\n",
    "plt.show()\n",
    "print(max(acc[1:]))\n",
    "print(k_vals2[acc.index(max(acc[1:]))])\n",
    "#best k = 90"
   ]
  },
  {
   "cell_type": "markdown",
   "metadata": {},
   "source": [
    "### Model tuning"
   ]
  },
  {
   "cell_type": "markdown",
   "metadata": {},
   "source": [
    "We are going to tune the best models we achieve so far. Moreover, we are also trying out a stacking model out of these best models and evaluate the performances."
   ]
  },
  {
   "cell_type": "markdown",
   "metadata": {},
   "source": [
    "#### FS_RESAMPLED_LR"
   ]
  },
  {
   "cell_type": "code",
   "execution_count": 81,
   "metadata": {},
   "outputs": [
    {
     "data": {
      "image/png": "[encoded data removed]",
      "text/plain": [
       "<Figure size 432x288 with 1 Axes>"
      ]
     },
     "metadata": {
      "needs_background": "light"
     },
     "output_type": "display_data"
    },
    {
     "name": "stdout",
     "output_type": "stream",
     "text": [
      "0.79143135345667\n",
      "12.742749857031322\n"
     ]
    }
   ],
   "source": [
    "# chi2 feature selection\n",
    "x_train_fs, fs = select_features_chi2(X_resampled, y_resampled, k_val=90)\n",
    "acc = []\n",
    "C = np.logspace(-3,3,20)\n",
    "for c in C:\n",
    "    lr = LogisticRegression(C=c, max_iter=500)\n",
    "    # C = 12.742749857031322\n",
    "    scores = evaluate_model(x_train_fs, y_resampled, lr)\n",
    "    acc.append(mean(scores))\n",
    "\n",
    "plt.plot(C, acc)\n",
    "plt.show()\n",
    "print(max(acc[1:]))\n",
    "print(C[acc.index(max(acc[1:]))])"
   ]
  },
  {
   "cell_type": "code",
   "execution_count": 82,
   "metadata": {},
   "outputs": [
    {
     "data": {
      "image/png": "[encoded data removed]",
      "text/plain": [
       "<Figure size 432x288 with 1 Axes>"
      ]
     },
     "metadata": {
      "needs_background": "light"
     },
     "output_type": "display_data"
    },
    {
     "name": "stdout",
     "output_type": "stream",
     "text": [
      "0.7828843449096614\n",
      "2.976351441631316\n"
     ]
    }
   ],
   "source": [
    "# mutual_info feature selection\n",
    "x_train_fs, fs = select_features_mutual_info(X_resampled, y_resampled, k_val=230)\n",
    "acc = []\n",
    "C = np.logspace(-3,3,20)\n",
    "for c in C:\n",
    "    lr = LogisticRegression(C=c, max_iter=500)\n",
    "    # C = 2.976351441631316\n",
    "    scores = evaluate_model(x_train_fs, y_resampled, lr)\n",
    "    acc.append(mean(scores))\n",
    "\n",
    "plt.plot(C, acc)\n",
    "plt.show()\n",
    "print(max(acc))\n",
    "print(C[acc.index(max(acc))])"
   ]
  },
  {
   "cell_type": "markdown",
   "metadata": {},
   "source": [
    "#### FS_RESAMPLED_SVM"
   ]
  },
  {
   "cell_type": "code",
   "execution_count": 83,
   "metadata": {},
   "outputs": [
    {
     "data": {
      "image/png": "[encoded data removed]",
      "text/plain": [
       "<Figure size 432x288 with 1 Axes>"
      ]
     },
     "metadata": {
      "needs_background": "light"
     },
     "output_type": "display_data"
    },
    {
     "name": "stdout",
     "output_type": "stream",
     "text": [
      "0.8075516607162178\n",
      "6.158482110660261\n"
     ]
    }
   ],
   "source": [
    "x_train_fs, fs = select_features_chi2(X_resampled, y_resampled, k_val=90)\n",
    "acc = []\n",
    "C = np.logspace(-3, 1, 20)\n",
    "for c in C:\n",
    "    svc = SVC(C=c)\n",
    "    # C = 6.158482110660261\n",
    "    scores = evaluate_model(x_train_fs, y_resampled, svc)\n",
    "    acc.append(mean(scores))\n",
    "\n",
    "plt.plot(C, acc)\n",
    "plt.show()\n",
    "print(max(acc))\n",
    "print(C[acc.index(max(acc))])"
   ]
  },
  {
   "cell_type": "code",
   "execution_count": 84,
   "metadata": {},
   "outputs": [
    {
     "data": {
      "image/png": "[encoded data removed]",
      "text/plain": [
       "<Figure size 432x288 with 1 Axes>"
      ]
     },
     "metadata": {
      "needs_background": "light"
     },
     "output_type": "display_data"
    },
    {
     "name": "stdout",
     "output_type": "stream",
     "text": [
      "0.8075516607162178\n",
      "0.5689866029018293\n"
     ]
    }
   ],
   "source": [
    "acc = []\n",
    "gamma = np.logspace(-3, 0, 50)\n",
    "for g in gamma:\n",
    "    svc = SVC(random_state=0, C=6.158482110660261,gamma = g)\n",
    "    # gamma = 0.3727593720314938\n",
    "    scores = evaluate_model(x_train_fs, y_resampled, svc)\n",
    "    acc.append(mean(scores))\n",
    "\n",
    "plt.plot(gamma, acc)\n",
    "plt.show()\n",
    "print(max(acc))\n",
    "print(gamma[acc.index(max(acc))])"
   ]
  },
  {
   "cell_type": "code",
   "execution_count": 85,
   "metadata": {},
   "outputs": [
    {
     "data": {
      "image/png": "[encoded data removed]",
      "text/plain": [
       "<Figure size 432x288 with 1 Axes>"
      ]
     },
     "metadata": {
      "needs_background": "light"
     },
     "output_type": "display_data"
    },
    {
     "name": "stdout",
     "output_type": "stream",
     "text": [
      "0.7820729200476038\n",
      "10.0\n"
     ]
    }
   ],
   "source": [
    "x_train_fs, fs = select_features_mutual_info(X_resampled, y_resampled, k_val=130)\n",
    "acc = []\n",
    "C = np.logspace(-3, 1, 20)\n",
    "for c in C:\n",
    "    svc = SVC(C=c)\n",
    "    # C = 10.0\n",
    "    scores = evaluate_model(x_train_fs, y_resampled, svc)\n",
    "    acc.append(mean(scores))\n",
    "\n",
    "plt.plot(C, acc)\n",
    "plt.show()\n",
    "print(max(acc))\n",
    "print(C[acc.index(max(acc))])"
   ]
  },
  {
   "cell_type": "code",
   "execution_count": 86,
   "metadata": {},
   "outputs": [
    {
     "data": {
      "image/png": "[encoded data removed]",
      "text/plain": [
       "<Figure size 432x288 with 1 Axes>"
      ]
     },
     "metadata": {
      "needs_background": "light"
     },
     "output_type": "display_data"
    },
    {
     "name": "stdout",
     "output_type": "stream",
     "text": [
      "0.8143459915611815\n",
      "3.906939937054613\n"
     ]
    }
   ],
   "source": [
    "acc = []\n",
    "gamma = np.logspace(-3, 1, 50)\n",
    "for g in gamma:\n",
    "    svc = SVC(random_state=0, C=10.0,gamma = g)\n",
    "    # gamma = 0.1206792640639329\n",
    "    scores = evaluate_model(x_train_fs, y_resampled, svc)\n",
    "    acc.append(mean(scores))\n",
    "\n",
    "plt.plot(gamma, acc)\n",
    "plt.show()\n",
    "print(max(acc))\n",
    "print(gamma[acc.index(max(acc))])"
   ]
  },
  {
   "cell_type": "markdown",
   "metadata": {},
   "source": [
    "#### FS_RESAMPLED_MULTBAYES"
   ]
  },
  {
   "cell_type": "code",
   "execution_count": 87,
   "metadata": {},
   "outputs": [
    {
     "data": {
      "image/png": "[encoded data removed]",
      "text/plain": [
       "<Figure size 432x288 with 1 Axes>"
      ]
     },
     "metadata": {
      "needs_background": "light"
     },
     "output_type": "display_data"
    },
    {
     "name": "stdout",
     "output_type": "stream",
     "text": [
      "0.7701828410689172\n",
      "0.0001\n"
     ]
    }
   ],
   "source": [
    "x_train_fs, fs = select_features_chi2(X_resampled, y_resampled, k_val=140)\n",
    "acc = []\n",
    "alpha = np.logspace(-4, -1, 50)\n",
    "for a in alpha:\n",
    "    mulb = MultinomialNB(alpha=a)\n",
    "    # alpha=0.0001\n",
    "    scores = evaluate_model(x_train_fs, y_resampled, mulb)\n",
    "    acc.append(mean(scores))\n",
    "\n",
    "plt.plot(alpha, acc)\n",
    "plt.show()\n",
    "print(max(acc))\n",
    "print(alpha[acc.index(max(acc))])"
   ]
  },
  {
   "cell_type": "code",
   "execution_count": 88,
   "metadata": {},
   "outputs": [
    {
     "data": {
      "image/png": "[encoded data removed]",
      "text/plain": [
       "<Figure size 432x288 with 1 Axes>"
      ]
     },
     "metadata": {
      "needs_background": "light"
     },
     "output_type": "display_data"
    },
    {
     "name": "stdout",
     "output_type": "stream",
     "text": [
      "0.6964621876014282\n",
      "0.0001\n"
     ]
    }
   ],
   "source": [
    "x_train_fs, fs = select_features_mutual_info(X_resampled, y_resampled, k_val=140)\n",
    "acc = []\n",
    "alpha = np.logspace(-4, -1, 50)\n",
    "for a in alpha:\n",
    "    mulb = MultinomialNB(alpha=a)\n",
    "    # alpha = 0.05689866029018293\n",
    "    scores = evaluate_model(x_train_fs, y_resampled, mulb)\n",
    "    acc.append(mean(scores))\n",
    "\n",
    "plt.plot(alpha, acc)\n",
    "plt.show()\n",
    "print(max(acc))\n",
    "print(alpha[acc.index(max(acc))])"
   ]
  },
  {
   "cell_type": "markdown",
   "metadata": {},
   "source": [
    "#### FS_RESAMPLED_RFC"
   ]
  },
  {
   "cell_type": "code",
   "execution_count": 89,
   "metadata": {},
   "outputs": [
    {
     "data": {
      "image/png": "[encoded data removed]",
      "text/plain": [
       "<Figure size 432x288 with 1 Axes>"
      ]
     },
     "metadata": {
      "needs_background": "light"
     },
     "output_type": "display_data"
    },
    {
     "name": "stdout",
     "output_type": "stream",
     "text": [
      "0.7948285188791518\n",
      "180\n"
     ]
    }
   ],
   "source": [
    "x_train_fs, fs = select_features_mutual_info(X_resampled, y_resampled, k_val=270)\n",
    "acc = []\n",
    "n_est = np.arange(start=10, stop = 200, step=10)\n",
    "for n in n_est:\n",
    "    rf = RandomForestClassifier(n_estimators=n, random_state=0)\n",
    "    # n_est=180\n",
    "    scores = evaluate_model(x_train_fs, y_resampled, rf)\n",
    "    acc.append(mean(scores))\n",
    "\n",
    "plt.plot(n_est, acc)\n",
    "plt.show()\n",
    "print(max(acc))\n",
    "print(n_est[acc.index(max(acc))])"
   ]
  },
  {
   "cell_type": "code",
   "execution_count": 90,
   "metadata": {},
   "outputs": [
    {
     "data": {
      "image/png": "[encoded data removed]",
      "text/plain": [
       "<Figure size 432x288 with 1 Axes>"
      ]
     },
     "metadata": {
      "needs_background": "light"
     },
     "output_type": "display_data"
    },
    {
     "name": "stdout",
     "output_type": "stream",
     "text": [
      "0.7948285188791518\n",
      "55\n"
     ]
    }
   ],
   "source": [
    "acc = []\n",
    "max_depth = [int(x) for x in np.linspace(20, 100, num = 10)]\n",
    "for m in max_depth:\n",
    "    rf = RandomForestClassifier(n_estimators=180, random_state=0, max_depth=m)\n",
    "    # max_depth = 55\n",
    "    scores = evaluate_model(x_train_fs, y_resampled, rf)\n",
    "    acc.append(mean(scores))\n",
    "\n",
    "plt.plot(max_depth, acc)\n",
    "plt.show()\n",
    "print(max(acc))\n",
    "print(max_depth[acc.index(max(acc))])"
   ]
  },
  {
   "cell_type": "code",
   "execution_count": 91,
   "metadata": {},
   "outputs": [
    {
     "data": {
      "image/png": "[encoded data removed]",
      "text/plain": [
       "<Figure size 432x288 with 1 Axes>"
      ]
     },
     "metadata": {
      "needs_background": "light"
     },
     "output_type": "display_data"
    },
    {
     "name": "stdout",
     "output_type": "stream",
     "text": [
      "0.7905550146056477\n",
      "190\n"
     ]
    }
   ],
   "source": [
    "x_train_fs, fs = select_features_chi2(X_resampled, y_resampled, k_val=190)\n",
    "acc = []\n",
    "n_est = np.arange(start=10, stop = 200, step=10)\n",
    "for n in n_est:\n",
    "    rf = RandomForestClassifier(n_estimators=n, random_state=0)\n",
    "    # n_est=190\n",
    "    scores = evaluate_model(x_train_fs, y_resampled, rf)\n",
    "    acc.append(mean(scores))\n",
    "\n",
    "plt.plot(n_est, acc)\n",
    "plt.show()\n",
    "print(max(acc))\n",
    "print(n_est[acc.index(max(acc))])"
   ]
  },
  {
   "cell_type": "code",
   "execution_count": 92,
   "metadata": {},
   "outputs": [
    {
     "data": {
      "image/png": "[encoded data removed]",
      "text/plain": [
       "<Figure size 432x288 with 1 Axes>"
      ]
     },
     "metadata": {
      "needs_background": "light"
     },
     "output_type": "display_data"
    },
    {
     "name": "stdout",
     "output_type": "stream",
     "text": [
      "0.7914097154603486\n",
      "28\n"
     ]
    }
   ],
   "source": [
    "acc = []\n",
    "max_depth = [int(x) for x in np.linspace(20, 100, num = 10)]\n",
    "for m in max_depth:\n",
    "    rf = RandomForestClassifier(n_estimators=190, random_state=0, max_depth=m)\n",
    "    # max_depth = 37\n",
    "    scores = evaluate_model(x_train_fs, y_resampled, rf)\n",
    "    acc.append(mean(scores))\n",
    "\n",
    "plt.plot(max_depth, acc)\n",
    "plt.show()\n",
    "print(max(acc))\n",
    "print(max_depth[acc.index(max(acc))])"
   ]
  },
  {
   "cell_type": "markdown",
   "metadata": {},
   "source": [
    "### Stacking models"
   ]
  },
  {
   "cell_type": "code",
   "execution_count": 93,
   "metadata": {},
   "outputs": [],
   "source": [
    "from sklearn.ensemble import StackingClassifier\n",
    "from sklearn.pipeline import make_pipeline"
   ]
  },
  {
   "cell_type": "code",
   "execution_count": 94,
   "metadata": {},
   "outputs": [
    {
     "data": {
      "text/plain": [
       "0.773580006491399"
      ]
     },
     "execution_count": 94,
     "metadata": {},
     "output_type": "execute_result"
    }
   ],
   "source": [
    "# models with individual feature selection threshold stacked together\n",
    "models = [\n",
    "    ('lr', make_pipeline(SelectKBest(score_func=chi2, k=120), LogisticRegression(C=2.976351441631316, max_iter=500) )),\n",
    "    ('svm', make_pipeline(SelectKBest(score_func=chi2, k=70), SVC(random_state=0, C=3.792690190732246,gamma = 0.3727593720314938) )), \n",
    "    ('mulb', make_pipeline(SelectKBest(score_func=chi2, k=150), MultinomialNB(alpha=0.0001) )),\n",
    "    ('rfc', make_pipeline(SelectKBest(score_func=chi2, k=250), RandomForestClassifier(n_estimators=70, random_state=0, max_depth=20) ))]\n",
    "\n",
    "level1 = LogisticRegression()\n",
    "stacking = StackingClassifier(estimators=models, final_estimator=level1, cv=5)\n",
    "scores = evaluate_model(X_resampled, y_resampled, stacking)\n",
    "mean(scores)"
   ]
  },
  {
   "cell_type": "code",
   "execution_count": 97,
   "metadata": {},
   "outputs": [
    {
     "data": {
      "image/png": "[encoded data removed]",
      "text/plain": [
       "<Figure size 432x288 with 1 Axes>"
      ]
     },
     "metadata": {
      "needs_background": "light"
     },
     "output_type": "display_data"
    },
    {
     "name": "stdout",
     "output_type": "stream",
     "text": [
      "0.8150925024342747\n",
      "145\n"
     ]
    }
   ],
   "source": [
    "# models with a common feature selection threshold stacked together\n",
    "models = [\n",
    "    ('lr', LogisticRegression(C=12.742749857031322, max_iter=500) ),\n",
    "    ('svm', SVC(random_state=0, C=6.158482110660261,gamma = 0.5689866029018293) ), \n",
    "    ('mulb', MultinomialNB(alpha=0.0001) ),\n",
    "    ('rfc', RandomForestClassifier(n_estimators=190, random_state=0, max_depth=28) )]\n",
    "\n",
    "acc = []\n",
    "k_vals = np.arange(300, step=5)\n",
    "for k in k_vals:\n",
    "    x_train_fs, fs = select_features_chi2(X_resampled, y_resampled, k_val=k)\n",
    "    stacking = StackingClassifier(estimators=models, final_estimator=level1, cv=5)\n",
    "    scores = evaluate_model(x_train_fs, y_resampled, stacking)\n",
    "    acc.append(mean(scores))\n",
    "plt.plot(k_vals, acc)\n",
    "plt.show()\n",
    "print(max(acc[1:]))\n",
    "print(k_vals[acc.index(max(acc[1:]))])"
   ]
  },
  {
   "cell_type": "code",
   "execution_count": 98,
   "metadata": {},
   "outputs": [
    {
     "data": {
      "image/png": "[encoded data removed]",
      "text/plain": [
       "<Figure size 432x288 with 1 Axes>"
      ]
     },
     "metadata": {
      "needs_background": "light"
     },
     "output_type": "display_data"
    },
    {
     "name": "stdout",
     "output_type": "stream",
     "text": [
      "0.8083630855782754\n",
      "150\n"
     ]
    }
   ],
   "source": [
    "# models with a common feature selection threshold stacked together\n",
    "models = [\n",
    "    ('svm', SVC(random_state=0, C=6.158482110660261,gamma = 0.06866488450043001) ), \n",
    "    ('mulb', MultinomialNB(alpha=0.0001) )]\n",
    "\n",
    "acc = []\n",
    "k_vals = np.arange(300, step=5)\n",
    "for k in k_vals:\n",
    "    x_train_fs, fs = select_features_chi2(X_resampled, y_resampled, k_val=k)\n",
    "    stacking = StackingClassifier(estimators=models, final_estimator=level1, cv=5)\n",
    "    scores = evaluate_model(x_train_fs, y_resampled, stacking)\n",
    "    acc.append(mean(scores))\n",
    "plt.plot(k_vals, acc)\n",
    "plt.show()\n",
    "print(max(acc[1:]))\n",
    "print(k_vals[acc.index(max(acc[1:]))])"
   ]
  },
  {
   "cell_type": "code",
   "execution_count": null,
   "metadata": {},
   "outputs": [],
   "source": []
  }
 ],
 "metadata": {
  "kernelspec": {
   "display_name": "Python 3",
   "language": "python",
   "name": "python3"
  },
  "language_info": {
   "codemirror_mode": {
    "name": "ipython",
    "version": 3
   },
   "file_extension": ".py",
   "mimetype": "text/x-python",
   "name": "python",
   "nbconvert_exporter": "python",
   "pygments_lexer": "ipython3",
   "version": "3.8.3"
  }
 },
 "nbformat": 4,
 "nbformat_minor": 4
}
